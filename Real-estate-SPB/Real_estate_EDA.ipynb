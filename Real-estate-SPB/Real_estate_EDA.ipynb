{
 "cells": [
  {
   "cell_type": "markdown",
   "metadata": {},
   "source": [
    "# Исследование объявлений о продаже квартир\n",
    "\n",
    "### Задача:\n",
    "Провести анализ архива объявлений о продаже квартир в Санкт-Петербурге и соседних населённых пунктов, определить рыночную стоимость квартир, установить параметры, влияющие на стоимость.\n",
    "\n",
    "### Структура проекта: \n",
    "1. Знакомство с данными\n",
    "2. Предобработка данных\n",
    "3. Посчитаем следующие параметры: \n",
    "    - цена квадратного метра; \n",
    "    - день недели, месяц и год публикации объявления;\n",
    "    - этаж квартиры (первый, последний, другой)\n",
    "    - соотношение жилой и общей площади, а также отношение площади кухни к общей.\n",
    "4. Исследовательский анализ данных\n",
    "5. Резюме проекта"
   ]
  },
  {
   "cell_type": "markdown",
   "metadata": {},
   "source": [
    "### Шаг 1. Загрузим файл с данными и изучим общую информацию. "
   ]
  },
  {
   "cell_type": "code",
   "execution_count": 1,
   "metadata": {},
   "outputs": [],
   "source": [
    "import pandas as pd\n",
    "import matplotlib.pyplot as plt\n",
    "flat = pd.read_csv('/datasets/real_estate_data.csv')"
   ]
  },
  {
   "cell_type": "code",
   "execution_count": 2,
   "metadata": {},
   "outputs": [
    {
     "name": "stdout",
     "output_type": "stream",
     "text": [
      "<class 'pandas.core.frame.DataFrame'>\n",
      "RangeIndex: 23699 entries, 0 to 23698\n",
      "Data columns (total 1 columns):\n",
      "total_images\tlast_price\ttotal_area\tfirst_day_exposition\trooms\tceiling_height\tfloors_total\tliving_area\tfloor\tis_apartment\tstudio\topen_plan\tkitchen_area\tbalcony\tlocality_name\tairports_nearest\tcityCenters_nearest\tparks_around3000\tparks_nearest\tponds_around3000\tponds_nearest\tdays_exposition    23699 non-null object\n",
      "dtypes: object(1)\n",
      "memory usage: 185.3+ KB\n"
     ]
    }
   ],
   "source": [
    "flat.info()"
   ]
  },
  {
   "cell_type": "code",
   "execution_count": 3,
   "metadata": {},
   "outputs": [
    {
     "data": {
      "text/html": [
       "<div>\n",
       "<style scoped>\n",
       "    .dataframe tbody tr th:only-of-type {\n",
       "        vertical-align: middle;\n",
       "    }\n",
       "\n",
       "    .dataframe tbody tr th {\n",
       "        vertical-align: top;\n",
       "    }\n",
       "\n",
       "    .dataframe thead th {\n",
       "        text-align: right;\n",
       "    }\n",
       "</style>\n",
       "<table border=\"1\" class=\"dataframe\">\n",
       "  <thead>\n",
       "    <tr style=\"text-align: right;\">\n",
       "      <th></th>\n",
       "      <th>total_images\\tlast_price\\ttotal_area\\tfirst_day_exposition\\trooms\\tceiling_height\\tfloors_total\\tliving_area\\tfloor\\tis_apartment\\tstudio\\topen_plan\\tkitchen_area\\tbalcony\\tlocality_name\\tairports_nearest\\tcityCenters_nearest\\tparks_around3000\\tparks_nearest\\tponds_around3000\\tponds_nearest\\tdays_exposition</th>\n",
       "    </tr>\n",
       "  </thead>\n",
       "  <tbody>\n",
       "    <tr>\n",
       "      <td>0</td>\n",
       "      <td>20\\t13000000.0\\t108.0\\t2019-03-07T00:00:00\\t3\\...</td>\n",
       "    </tr>\n",
       "    <tr>\n",
       "      <td>1</td>\n",
       "      <td>7\\t3350000.0\\t40.4\\t2018-12-04T00:00:00\\t1\\t\\t...</td>\n",
       "    </tr>\n",
       "    <tr>\n",
       "      <td>2</td>\n",
       "      <td>10\\t5196000.0\\t56.0\\t2015-08-20T00:00:00\\t2\\t\\...</td>\n",
       "    </tr>\n",
       "    <tr>\n",
       "      <td>3</td>\n",
       "      <td>0\\t64900000.0\\t159.0\\t2015-07-24T00:00:00\\t3\\t...</td>\n",
       "    </tr>\n",
       "    <tr>\n",
       "      <td>4</td>\n",
       "      <td>2\\t10000000.0\\t100.0\\t2018-06-19T00:00:00\\t2\\t...</td>\n",
       "    </tr>\n",
       "  </tbody>\n",
       "</table>\n",
       "</div>"
      ],
      "text/plain": [
       "  total_images\\tlast_price\\ttotal_area\\tfirst_day_exposition\\trooms\\tceiling_height\\tfloors_total\\tliving_area\\tfloor\\tis_apartment\\tstudio\\topen_plan\\tkitchen_area\\tbalcony\\tlocality_name\\tairports_nearest\\tcityCenters_nearest\\tparks_around3000\\tparks_nearest\\tponds_around3000\\tponds_nearest\\tdays_exposition\n",
       "0  20\\t13000000.0\\t108.0\\t2019-03-07T00:00:00\\t3\\...                                                                                                                                                                                                                                                                  \n",
       "1  7\\t3350000.0\\t40.4\\t2018-12-04T00:00:00\\t1\\t\\t...                                                                                                                                                                                                                                                                  \n",
       "2  10\\t5196000.0\\t56.0\\t2015-08-20T00:00:00\\t2\\t\\...                                                                                                                                                                                                                                                                  \n",
       "3  0\\t64900000.0\\t159.0\\t2015-07-24T00:00:00\\t3\\t...                                                                                                                                                                                                                                                                  \n",
       "4  2\\t10000000.0\\t100.0\\t2018-06-19T00:00:00\\t2\\t...                                                                                                                                                                                                                                                                  "
      ]
     },
     "execution_count": 3,
     "metadata": {},
     "output_type": "execute_result"
    }
   ],
   "source": [
    "flat.head()"
   ]
  },
  {
   "cell_type": "code",
   "execution_count": 4,
   "metadata": {},
   "outputs": [
    {
     "data": {
      "text/html": [
       "<div>\n",
       "<style scoped>\n",
       "    .dataframe tbody tr th:only-of-type {\n",
       "        vertical-align: middle;\n",
       "    }\n",
       "\n",
       "    .dataframe tbody tr th {\n",
       "        vertical-align: top;\n",
       "    }\n",
       "\n",
       "    .dataframe thead th {\n",
       "        text-align: right;\n",
       "    }\n",
       "</style>\n",
       "<table border=\"1\" class=\"dataframe\">\n",
       "  <thead>\n",
       "    <tr style=\"text-align: right;\">\n",
       "      <th></th>\n",
       "      <th>total_images</th>\n",
       "      <th>last_price</th>\n",
       "      <th>total_area</th>\n",
       "      <th>first_day_exposition</th>\n",
       "      <th>rooms</th>\n",
       "      <th>ceiling_height</th>\n",
       "      <th>floors_total</th>\n",
       "      <th>living_area</th>\n",
       "      <th>floor</th>\n",
       "      <th>is_apartment</th>\n",
       "      <th>...</th>\n",
       "      <th>kitchen_area</th>\n",
       "      <th>balcony</th>\n",
       "      <th>locality_name</th>\n",
       "      <th>airports_nearest</th>\n",
       "      <th>cityCenters_nearest</th>\n",
       "      <th>parks_around3000</th>\n",
       "      <th>parks_nearest</th>\n",
       "      <th>ponds_around3000</th>\n",
       "      <th>ponds_nearest</th>\n",
       "      <th>days_exposition</th>\n",
       "    </tr>\n",
       "  </thead>\n",
       "  <tbody>\n",
       "    <tr>\n",
       "      <td>17681</td>\n",
       "      <td>14</td>\n",
       "      <td>3850000.0</td>\n",
       "      <td>45.2</td>\n",
       "      <td>2019-03-26T00:00:00</td>\n",
       "      <td>2</td>\n",
       "      <td>2.56</td>\n",
       "      <td>5.0</td>\n",
       "      <td>30.1</td>\n",
       "      <td>5</td>\n",
       "      <td>NaN</td>\n",
       "      <td>...</td>\n",
       "      <td>6.8</td>\n",
       "      <td>NaN</td>\n",
       "      <td>Санкт-Петербург</td>\n",
       "      <td>18233.0</td>\n",
       "      <td>16034.0</td>\n",
       "      <td>0.0</td>\n",
       "      <td>NaN</td>\n",
       "      <td>0.0</td>\n",
       "      <td>NaN</td>\n",
       "      <td>18.0</td>\n",
       "    </tr>\n",
       "    <tr>\n",
       "      <td>19620</td>\n",
       "      <td>10</td>\n",
       "      <td>4300000.0</td>\n",
       "      <td>33.0</td>\n",
       "      <td>2018-02-01T00:00:00</td>\n",
       "      <td>1</td>\n",
       "      <td>NaN</td>\n",
       "      <td>5.0</td>\n",
       "      <td>9.0</td>\n",
       "      <td>1</td>\n",
       "      <td>NaN</td>\n",
       "      <td>...</td>\n",
       "      <td>17.0</td>\n",
       "      <td>NaN</td>\n",
       "      <td>Санкт-Петербург</td>\n",
       "      <td>22525.0</td>\n",
       "      <td>2976.0</td>\n",
       "      <td>2.0</td>\n",
       "      <td>251.0</td>\n",
       "      <td>3.0</td>\n",
       "      <td>220.0</td>\n",
       "      <td>86.0</td>\n",
       "    </tr>\n",
       "    <tr>\n",
       "      <td>13724</td>\n",
       "      <td>8</td>\n",
       "      <td>6210000.0</td>\n",
       "      <td>66.3</td>\n",
       "      <td>2017-12-08T00:00:00</td>\n",
       "      <td>3</td>\n",
       "      <td>2.70</td>\n",
       "      <td>12.0</td>\n",
       "      <td>41.9</td>\n",
       "      <td>4</td>\n",
       "      <td>NaN</td>\n",
       "      <td>...</td>\n",
       "      <td>11.2</td>\n",
       "      <td>NaN</td>\n",
       "      <td>Санкт-Петербург</td>\n",
       "      <td>37793.0</td>\n",
       "      <td>12690.0</td>\n",
       "      <td>0.0</td>\n",
       "      <td>NaN</td>\n",
       "      <td>1.0</td>\n",
       "      <td>890.0</td>\n",
       "      <td>333.0</td>\n",
       "    </tr>\n",
       "    <tr>\n",
       "      <td>23587</td>\n",
       "      <td>7</td>\n",
       "      <td>12100000.0</td>\n",
       "      <td>88.0</td>\n",
       "      <td>2017-07-07T00:00:00</td>\n",
       "      <td>3</td>\n",
       "      <td>NaN</td>\n",
       "      <td>10.0</td>\n",
       "      <td>NaN</td>\n",
       "      <td>5</td>\n",
       "      <td>NaN</td>\n",
       "      <td>...</td>\n",
       "      <td>14.0</td>\n",
       "      <td>NaN</td>\n",
       "      <td>Санкт-Петербург</td>\n",
       "      <td>37412.0</td>\n",
       "      <td>8370.0</td>\n",
       "      <td>1.0</td>\n",
       "      <td>392.0</td>\n",
       "      <td>2.0</td>\n",
       "      <td>359.0</td>\n",
       "      <td>200.0</td>\n",
       "    </tr>\n",
       "    <tr>\n",
       "      <td>14096</td>\n",
       "      <td>10</td>\n",
       "      <td>3200000.0</td>\n",
       "      <td>31.2</td>\n",
       "      <td>2017-08-03T00:00:00</td>\n",
       "      <td>1</td>\n",
       "      <td>2.50</td>\n",
       "      <td>5.0</td>\n",
       "      <td>18.3</td>\n",
       "      <td>1</td>\n",
       "      <td>NaN</td>\n",
       "      <td>...</td>\n",
       "      <td>6.3</td>\n",
       "      <td>NaN</td>\n",
       "      <td>Санкт-Петербург</td>\n",
       "      <td>42636.0</td>\n",
       "      <td>15139.0</td>\n",
       "      <td>0.0</td>\n",
       "      <td>NaN</td>\n",
       "      <td>0.0</td>\n",
       "      <td>NaN</td>\n",
       "      <td>468.0</td>\n",
       "    </tr>\n",
       "    <tr>\n",
       "      <td>2406</td>\n",
       "      <td>10</td>\n",
       "      <td>4290000.0</td>\n",
       "      <td>64.7</td>\n",
       "      <td>2016-01-16T00:00:00</td>\n",
       "      <td>2</td>\n",
       "      <td>2.50</td>\n",
       "      <td>16.0</td>\n",
       "      <td>29.9</td>\n",
       "      <td>4</td>\n",
       "      <td>False</td>\n",
       "      <td>...</td>\n",
       "      <td>8.4</td>\n",
       "      <td>2.0</td>\n",
       "      <td>поселок Тельмана</td>\n",
       "      <td>NaN</td>\n",
       "      <td>NaN</td>\n",
       "      <td>NaN</td>\n",
       "      <td>NaN</td>\n",
       "      <td>NaN</td>\n",
       "      <td>NaN</td>\n",
       "      <td>184.0</td>\n",
       "    </tr>\n",
       "    <tr>\n",
       "      <td>2181</td>\n",
       "      <td>12</td>\n",
       "      <td>6200000.0</td>\n",
       "      <td>96.1</td>\n",
       "      <td>2018-08-23T00:00:00</td>\n",
       "      <td>3</td>\n",
       "      <td>2.70</td>\n",
       "      <td>9.0</td>\n",
       "      <td>53.7</td>\n",
       "      <td>7</td>\n",
       "      <td>NaN</td>\n",
       "      <td>...</td>\n",
       "      <td>14.5</td>\n",
       "      <td>NaN</td>\n",
       "      <td>Всеволожск</td>\n",
       "      <td>NaN</td>\n",
       "      <td>NaN</td>\n",
       "      <td>NaN</td>\n",
       "      <td>NaN</td>\n",
       "      <td>NaN</td>\n",
       "      <td>NaN</td>\n",
       "      <td>NaN</td>\n",
       "    </tr>\n",
       "    <tr>\n",
       "      <td>20334</td>\n",
       "      <td>4</td>\n",
       "      <td>2600000.0</td>\n",
       "      <td>38.2</td>\n",
       "      <td>2018-03-17T00:00:00</td>\n",
       "      <td>1</td>\n",
       "      <td>2.65</td>\n",
       "      <td>4.0</td>\n",
       "      <td>NaN</td>\n",
       "      <td>2</td>\n",
       "      <td>NaN</td>\n",
       "      <td>...</td>\n",
       "      <td>NaN</td>\n",
       "      <td>NaN</td>\n",
       "      <td>посёлок Щеглово</td>\n",
       "      <td>NaN</td>\n",
       "      <td>NaN</td>\n",
       "      <td>NaN</td>\n",
       "      <td>NaN</td>\n",
       "      <td>NaN</td>\n",
       "      <td>NaN</td>\n",
       "      <td>45.0</td>\n",
       "    </tr>\n",
       "    <tr>\n",
       "      <td>23691</td>\n",
       "      <td>11</td>\n",
       "      <td>9470000.0</td>\n",
       "      <td>72.9</td>\n",
       "      <td>2016-10-13T00:00:00</td>\n",
       "      <td>2</td>\n",
       "      <td>2.75</td>\n",
       "      <td>25.0</td>\n",
       "      <td>40.3</td>\n",
       "      <td>7</td>\n",
       "      <td>NaN</td>\n",
       "      <td>...</td>\n",
       "      <td>10.6</td>\n",
       "      <td>1.0</td>\n",
       "      <td>Санкт-Петербург</td>\n",
       "      <td>19424.0</td>\n",
       "      <td>4489.0</td>\n",
       "      <td>0.0</td>\n",
       "      <td>NaN</td>\n",
       "      <td>1.0</td>\n",
       "      <td>806.0</td>\n",
       "      <td>519.0</td>\n",
       "    </tr>\n",
       "    <tr>\n",
       "      <td>18870</td>\n",
       "      <td>12</td>\n",
       "      <td>7950000.0</td>\n",
       "      <td>80.0</td>\n",
       "      <td>2017-09-13T00:00:00</td>\n",
       "      <td>2</td>\n",
       "      <td>NaN</td>\n",
       "      <td>4.0</td>\n",
       "      <td>36.0</td>\n",
       "      <td>2</td>\n",
       "      <td>NaN</td>\n",
       "      <td>...</td>\n",
       "      <td>15.0</td>\n",
       "      <td>NaN</td>\n",
       "      <td>Сестрорецк</td>\n",
       "      <td>54120.0</td>\n",
       "      <td>35219.0</td>\n",
       "      <td>0.0</td>\n",
       "      <td>NaN</td>\n",
       "      <td>0.0</td>\n",
       "      <td>NaN</td>\n",
       "      <td>462.0</td>\n",
       "    </tr>\n",
       "  </tbody>\n",
       "</table>\n",
       "<p>10 rows × 22 columns</p>\n",
       "</div>"
      ],
      "text/plain": [
       "       total_images  last_price  total_area first_day_exposition  rooms  \\\n",
       "17681            14   3850000.0        45.2  2019-03-26T00:00:00      2   \n",
       "19620            10   4300000.0        33.0  2018-02-01T00:00:00      1   \n",
       "13724             8   6210000.0        66.3  2017-12-08T00:00:00      3   \n",
       "23587             7  12100000.0        88.0  2017-07-07T00:00:00      3   \n",
       "14096            10   3200000.0        31.2  2017-08-03T00:00:00      1   \n",
       "2406             10   4290000.0        64.7  2016-01-16T00:00:00      2   \n",
       "2181             12   6200000.0        96.1  2018-08-23T00:00:00      3   \n",
       "20334             4   2600000.0        38.2  2018-03-17T00:00:00      1   \n",
       "23691            11   9470000.0        72.9  2016-10-13T00:00:00      2   \n",
       "18870            12   7950000.0        80.0  2017-09-13T00:00:00      2   \n",
       "\n",
       "       ceiling_height  floors_total  living_area  floor is_apartment  ...  \\\n",
       "17681            2.56           5.0         30.1      5          NaN  ...   \n",
       "19620             NaN           5.0          9.0      1          NaN  ...   \n",
       "13724            2.70          12.0         41.9      4          NaN  ...   \n",
       "23587             NaN          10.0          NaN      5          NaN  ...   \n",
       "14096            2.50           5.0         18.3      1          NaN  ...   \n",
       "2406             2.50          16.0         29.9      4        False  ...   \n",
       "2181             2.70           9.0         53.7      7          NaN  ...   \n",
       "20334            2.65           4.0          NaN      2          NaN  ...   \n",
       "23691            2.75          25.0         40.3      7          NaN  ...   \n",
       "18870             NaN           4.0         36.0      2          NaN  ...   \n",
       "\n",
       "       kitchen_area  balcony     locality_name  airports_nearest  \\\n",
       "17681           6.8      NaN   Санкт-Петербург           18233.0   \n",
       "19620          17.0      NaN   Санкт-Петербург           22525.0   \n",
       "13724          11.2      NaN   Санкт-Петербург           37793.0   \n",
       "23587          14.0      NaN   Санкт-Петербург           37412.0   \n",
       "14096           6.3      NaN   Санкт-Петербург           42636.0   \n",
       "2406            8.4      2.0  поселок Тельмана               NaN   \n",
       "2181           14.5      NaN        Всеволожск               NaN   \n",
       "20334           NaN      NaN   посёлок Щеглово               NaN   \n",
       "23691          10.6      1.0   Санкт-Петербург           19424.0   \n",
       "18870          15.0      NaN        Сестрорецк           54120.0   \n",
       "\n",
       "      cityCenters_nearest  parks_around3000  parks_nearest  ponds_around3000  \\\n",
       "17681             16034.0               0.0            NaN               0.0   \n",
       "19620              2976.0               2.0          251.0               3.0   \n",
       "13724             12690.0               0.0            NaN               1.0   \n",
       "23587              8370.0               1.0          392.0               2.0   \n",
       "14096             15139.0               0.0            NaN               0.0   \n",
       "2406                  NaN               NaN            NaN               NaN   \n",
       "2181                  NaN               NaN            NaN               NaN   \n",
       "20334                 NaN               NaN            NaN               NaN   \n",
       "23691              4489.0               0.0            NaN               1.0   \n",
       "18870             35219.0               0.0            NaN               0.0   \n",
       "\n",
       "       ponds_nearest  days_exposition  \n",
       "17681            NaN             18.0  \n",
       "19620          220.0             86.0  \n",
       "13724          890.0            333.0  \n",
       "23587          359.0            200.0  \n",
       "14096            NaN            468.0  \n",
       "2406             NaN            184.0  \n",
       "2181             NaN              NaN  \n",
       "20334            NaN             45.0  \n",
       "23691          806.0            519.0  \n",
       "18870            NaN            462.0  \n",
       "\n",
       "[10 rows x 22 columns]"
      ]
     },
     "execution_count": 4,
     "metadata": {},
     "output_type": "execute_result"
    }
   ],
   "source": [
    "flat = pd.read_csv('/datasets/real_estate_data.csv', sep='\\t')\n",
    "flat.sample(10)"
   ]
  },
  {
   "cell_type": "code",
   "execution_count": 5,
   "metadata": {},
   "outputs": [
    {
     "name": "stdout",
     "output_type": "stream",
     "text": [
      "<class 'pandas.core.frame.DataFrame'>\n",
      "RangeIndex: 23699 entries, 0 to 23698\n",
      "Data columns (total 22 columns):\n",
      "total_images            23699 non-null int64\n",
      "last_price              23699 non-null float64\n",
      "total_area              23699 non-null float64\n",
      "first_day_exposition    23699 non-null object\n",
      "rooms                   23699 non-null int64\n",
      "ceiling_height          14504 non-null float64\n",
      "floors_total            23613 non-null float64\n",
      "living_area             21796 non-null float64\n",
      "floor                   23699 non-null int64\n",
      "is_apartment            2775 non-null object\n",
      "studio                  23699 non-null bool\n",
      "open_plan               23699 non-null bool\n",
      "kitchen_area            21421 non-null float64\n",
      "balcony                 12180 non-null float64\n",
      "locality_name           23650 non-null object\n",
      "airports_nearest        18157 non-null float64\n",
      "cityCenters_nearest     18180 non-null float64\n",
      "parks_around3000        18181 non-null float64\n",
      "parks_nearest           8079 non-null float64\n",
      "ponds_around3000        18181 non-null float64\n",
      "ponds_nearest           9110 non-null float64\n",
      "days_exposition         20518 non-null float64\n",
      "dtypes: bool(2), float64(14), int64(3), object(3)\n",
      "memory usage: 3.7+ MB\n"
     ]
    }
   ],
   "source": [
    "flat.info()"
   ]
  },
  {
   "cell_type": "code",
   "execution_count": 6,
   "metadata": {},
   "outputs": [
    {
     "data": {
      "text/plain": [
       "('2014-11-27T00:00:00', '2019-05-03T00:00:00')"
      ]
     },
     "execution_count": 6,
     "metadata": {},
     "output_type": "execute_result"
    }
   ],
   "source": [
    "flat['first_day_exposition'].min(),flat['first_day_exposition'].max()"
   ]
  },
  {
   "cell_type": "markdown",
   "metadata": {},
   "source": [
    "### Вывод"
   ]
  },
  {
   "cell_type": "markdown",
   "metadata": {},
   "source": [
    "В таблице 23699 значений. Большое количество пропусков в столбцах \"ceiling_height\", \"is_apartment\", \"balcony\", также много пропусков в значениях с измерениями растоняний до парков,центра и пр.\n",
    "Стоит акцентировать внимание ответственных сотрудников на этих пропусках. Возможно это связано с тем, что анкета не требует обязательно проставления значений в данных полях, хотя они важны для людей, которые принимают решение о покупке.\n",
    "Для дальнейшей работы с данными потребуется заменить пропущенные значения, в столбцах где их отсутствие превышает 10%, переформатировать поле с датой объявления, изменить формат столбцов для проведения вычеслений."
   ]
  },
  {
   "cell_type": "markdown",
   "metadata": {},
   "source": [
    "### Шаг 2. Предобработка данных"
   ]
  },
  {
   "cell_type": "code",
   "execution_count": 7,
   "metadata": {},
   "outputs": [
    {
     "data": {
      "text/plain": [
       "0"
      ]
     },
     "execution_count": 7,
     "metadata": {},
     "output_type": "execute_result"
    }
   ],
   "source": [
    "flat['ceiling_height'].median()\n",
    "#заполним пропуске в столбце с высотой потолков медианой\n",
    "flat['ceiling_height'] = flat['ceiling_height'].fillna(2.65)\n",
    "flat['ceiling_height'].isna().sum()\n",
    "#проверяем"
   ]
  },
  {
   "cell_type": "markdown",
   "metadata": {},
   "source": [
    "Заменяем пропущенные значения в столбце ceiling_height медианой (2.65) данного столбца. "
   ]
  },
  {
   "cell_type": "code",
   "execution_count": 8,
   "metadata": {},
   "outputs": [
    {
     "data": {
      "text/plain": [
       "array([False,  True])"
      ]
     },
     "execution_count": 8,
     "metadata": {},
     "output_type": "execute_result"
    }
   ],
   "source": [
    "flat['is_apartment'].isna().sum()\n",
    "#предполагаем, что большинство квартир не являются аппартаментами и заполняем пропущенные поля значением - False.\n",
    "flat['is_apartment'] = flat['is_apartment'].fillna(False)\n",
    "#проверяем прошла ли замена\n",
    "flat['is_apartment'].unique()"
   ]
  },
  {
   "cell_type": "markdown",
   "metadata": {},
   "source": [
    "Предполагаем, что большинство квартир не являются аппартаментами и заполняем пропущенные поля значением - False."
   ]
  },
  {
   "cell_type": "code",
   "execution_count": 9,
   "metadata": {},
   "outputs": [
    {
     "data": {
      "text/plain": [
       "array([0., 2., 1., 5., 4., 3.])"
      ]
     },
     "execution_count": 9,
     "metadata": {},
     "output_type": "execute_result"
    }
   ],
   "source": [
    "flat['balcony'].isna().sum()\n",
    "#предполагаем, что пропущенные значения это квартиры не имеющие балконов и заполняем пропущенные поля значением - 0.\n",
    "flat['balcony'] = flat['balcony'].fillna(0)\n",
    "#проверяем прошла ли замена\n",
    "flat['balcony'].unique()"
   ]
  },
  {
   "cell_type": "markdown",
   "metadata": {},
   "source": [
    "Предполагаем, что пропущенные значения это квартиры не имеющие балконов и заполняем пропущенные поля значением - 0. Это значение не критично для исследования."
   ]
  },
  {
   "cell_type": "code",
   "execution_count": 10,
   "metadata": {
    "scrolled": true
   },
   "outputs": [
    {
     "data": {
      "text/plain": [
       "0"
      ]
     },
     "execution_count": 10,
     "metadata": {},
     "output_type": "execute_result"
    }
   ],
   "source": [
    "#flat['locality_name'].isna().sum()\n",
    "flat.dropna(subset = ['locality_name'],inplace = True)\n",
    "#невозможно предположить в какой локации находится объект недвижимости, 49 значений не окажут значительного \n",
    "#влияния на результаты исследования, удаляем строки с пропущенными значениями\n",
    "flat['locality_name'].isna().sum()\n",
    "#проверяем"
   ]
  },
  {
   "cell_type": "markdown",
   "metadata": {},
   "source": [
    "Невозможно предположить в какой локации находится объект недвижимости, 49 значений не окажут значительного \n",
    "влияния на результаты исследования, удаляем строки с пропущенными значениями"
   ]
  },
  {
   "cell_type": "code",
   "execution_count": 11,
   "metadata": {},
   "outputs": [
    {
     "data": {
      "text/html": [
       "<div>\n",
       "<style scoped>\n",
       "    .dataframe tbody tr th:only-of-type {\n",
       "        vertical-align: middle;\n",
       "    }\n",
       "\n",
       "    .dataframe tbody tr th {\n",
       "        vertical-align: top;\n",
       "    }\n",
       "\n",
       "    .dataframe thead th {\n",
       "        text-align: right;\n",
       "    }\n",
       "</style>\n",
       "<table border=\"1\" class=\"dataframe\">\n",
       "  <thead>\n",
       "    <tr style=\"text-align: right;\">\n",
       "      <th></th>\n",
       "      <th>locality_name</th>\n",
       "    </tr>\n",
       "  </thead>\n",
       "  <tbody>\n",
       "    <tr>\n",
       "      <td>0</td>\n",
       "      <td>Санкт-Петербург</td>\n",
       "    </tr>\n",
       "    <tr>\n",
       "      <td>1</td>\n",
       "      <td>поселок Шушары</td>\n",
       "    </tr>\n",
       "    <tr>\n",
       "      <td>2</td>\n",
       "      <td>Санкт-Петербург</td>\n",
       "    </tr>\n",
       "    <tr>\n",
       "      <td>3</td>\n",
       "      <td>Санкт-Петербург</td>\n",
       "    </tr>\n",
       "    <tr>\n",
       "      <td>4</td>\n",
       "      <td>Санкт-Петербург</td>\n",
       "    </tr>\n",
       "    <tr>\n",
       "      <td>...</td>\n",
       "      <td>...</td>\n",
       "    </tr>\n",
       "    <tr>\n",
       "      <td>23694</td>\n",
       "      <td>Санкт-Петербург</td>\n",
       "    </tr>\n",
       "    <tr>\n",
       "      <td>23695</td>\n",
       "      <td>Тосно</td>\n",
       "    </tr>\n",
       "    <tr>\n",
       "      <td>23696</td>\n",
       "      <td>село Рождествено</td>\n",
       "    </tr>\n",
       "    <tr>\n",
       "      <td>23697</td>\n",
       "      <td>Санкт-Петербург</td>\n",
       "    </tr>\n",
       "    <tr>\n",
       "      <td>23698</td>\n",
       "      <td>поселок Новый Учхоз</td>\n",
       "    </tr>\n",
       "  </tbody>\n",
       "</table>\n",
       "<p>23650 rows × 1 columns</p>\n",
       "</div>"
      ],
      "text/plain": [
       "             locality_name\n",
       "0          Санкт-Петербург\n",
       "1           поселок Шушары\n",
       "2          Санкт-Петербург\n",
       "3          Санкт-Петербург\n",
       "4          Санкт-Петербург\n",
       "...                    ...\n",
       "23694      Санкт-Петербург\n",
       "23695                Тосно\n",
       "23696     село Рождествено\n",
       "23697      Санкт-Петербург\n",
       "23698  поселок Новый Учхоз\n",
       "\n",
       "[23650 rows x 1 columns]"
      ]
     },
     "execution_count": 11,
     "metadata": {},
     "output_type": "execute_result"
    }
   ],
   "source": [
    "flat['locality_name'] = flat['locality_name'].str.replace('ё','е')\n",
    "#заменим буквы \"ё\" в столбце с наименование населенного пункта\n",
    "flat[['locality_name']]"
   ]
  },
  {
   "cell_type": "markdown",
   "metadata": {},
   "source": [
    "Заменим буквы \"ё\" на 'е' в столбце с наименование населенного пункта. Это пригодится нам в дальнейшем."
   ]
  },
  {
   "cell_type": "code",
   "execution_count": 12,
   "metadata": {},
   "outputs": [
    {
     "data": {
      "text/html": [
       "<div>\n",
       "<style scoped>\n",
       "    .dataframe tbody tr th:only-of-type {\n",
       "        vertical-align: middle;\n",
       "    }\n",
       "\n",
       "    .dataframe tbody tr th {\n",
       "        vertical-align: top;\n",
       "    }\n",
       "\n",
       "    .dataframe thead th {\n",
       "        text-align: right;\n",
       "    }\n",
       "</style>\n",
       "<table border=\"1\" class=\"dataframe\">\n",
       "  <thead>\n",
       "    <tr style=\"text-align: right;\">\n",
       "      <th></th>\n",
       "      <th>locality_name</th>\n",
       "      <th>floors_total</th>\n",
       "      <th>new_floors_total</th>\n",
       "    </tr>\n",
       "  </thead>\n",
       "  <tbody>\n",
       "    <tr>\n",
       "      <td>186</td>\n",
       "      <td>Санкт-Петербург</td>\n",
       "      <td>NaN</td>\n",
       "      <td>9.0</td>\n",
       "    </tr>\n",
       "    <tr>\n",
       "      <td>237</td>\n",
       "      <td>Санкт-Петербург</td>\n",
       "      <td>NaN</td>\n",
       "      <td>9.0</td>\n",
       "    </tr>\n",
       "    <tr>\n",
       "      <td>457</td>\n",
       "      <td>Санкт-Петербург</td>\n",
       "      <td>NaN</td>\n",
       "      <td>9.0</td>\n",
       "    </tr>\n",
       "    <tr>\n",
       "      <td>671</td>\n",
       "      <td>Санкт-Петербург</td>\n",
       "      <td>NaN</td>\n",
       "      <td>9.0</td>\n",
       "    </tr>\n",
       "    <tr>\n",
       "      <td>1757</td>\n",
       "      <td>Санкт-Петербург</td>\n",
       "      <td>NaN</td>\n",
       "      <td>9.0</td>\n",
       "    </tr>\n",
       "    <tr>\n",
       "      <td>...</td>\n",
       "      <td>...</td>\n",
       "      <td>...</td>\n",
       "      <td>...</td>\n",
       "    </tr>\n",
       "    <tr>\n",
       "      <td>22542</td>\n",
       "      <td>Санкт-Петербург</td>\n",
       "      <td>NaN</td>\n",
       "      <td>9.0</td>\n",
       "    </tr>\n",
       "    <tr>\n",
       "      <td>22656</td>\n",
       "      <td>Санкт-Петербург</td>\n",
       "      <td>NaN</td>\n",
       "      <td>9.0</td>\n",
       "    </tr>\n",
       "    <tr>\n",
       "      <td>22808</td>\n",
       "      <td>Санкт-Петербург</td>\n",
       "      <td>NaN</td>\n",
       "      <td>9.0</td>\n",
       "    </tr>\n",
       "    <tr>\n",
       "      <td>23590</td>\n",
       "      <td>Санкт-Петербург</td>\n",
       "      <td>NaN</td>\n",
       "      <td>9.0</td>\n",
       "    </tr>\n",
       "    <tr>\n",
       "      <td>23658</td>\n",
       "      <td>Санкт-Петербург</td>\n",
       "      <td>NaN</td>\n",
       "      <td>9.0</td>\n",
       "    </tr>\n",
       "  </tbody>\n",
       "</table>\n",
       "<p>85 rows × 3 columns</p>\n",
       "</div>"
      ],
      "text/plain": [
       "         locality_name  floors_total  new_floors_total\n",
       "186    Санкт-Петербург           NaN               9.0\n",
       "237    Санкт-Петербург           NaN               9.0\n",
       "457    Санкт-Петербург           NaN               9.0\n",
       "671    Санкт-Петербург           NaN               9.0\n",
       "1757   Санкт-Петербург           NaN               9.0\n",
       "...                ...           ...               ...\n",
       "22542  Санкт-Петербург           NaN               9.0\n",
       "22656  Санкт-Петербург           NaN               9.0\n",
       "22808  Санкт-Петербург           NaN               9.0\n",
       "23590  Санкт-Петербург           NaN               9.0\n",
       "23658  Санкт-Петербург           NaN               9.0\n",
       "\n",
       "[85 rows x 3 columns]"
      ]
     },
     "execution_count": 12,
     "metadata": {},
     "output_type": "execute_result"
    }
   ],
   "source": [
    "#функция для расчета медианы в зависимости от населенного пункта и добавлением её в пропушенные значения столбца с общим количество этажей. \n",
    "\n",
    "flat['new_floors_total'] = flat['floors_total']\n",
    "\n",
    "for locality_name in flat['locality_name'].unique():\n",
    "    #считаем медиану\n",
    "    median_floor = flat[flat['locality_name'] == locality_name]['floors_total'].median()\n",
    "    #заполняем пропуски в нужной группе\n",
    "    flat.loc[(flat['new_floors_total'].isna()) & (flat['locality_name'] == locality_name), 'new_floors_total'] = median_floor\n",
    "   \n",
    "flat[['locality_name','floors_total','new_floors_total']].query('floors_total.isna()')"
   ]
  },
  {
   "cell_type": "markdown",
   "metadata": {},
   "source": [
    "Пропущенный значения в столбце с общим количеством этажей заменим медианой в зависимости от населенного пункта. Добавим новый слобец new_floors_total.\n",
    "\n",
    "Эти данные понадобятся нам в дальнейшем."
   ]
  },
  {
   "cell_type": "code",
   "execution_count": 13,
   "metadata": {},
   "outputs": [
    {
     "name": "stderr",
     "output_type": "stream",
     "text": [
      "/opt/conda/lib/python3.7/site-packages/numpy/lib/nanfunctions.py:1113: RuntimeWarning: Mean of empty slice\n",
      "  return np.nanmean(a, axis, out=out, keepdims=keepdims)\n"
     ]
    },
    {
     "data": {
      "text/html": [
       "<div>\n",
       "<style scoped>\n",
       "    .dataframe tbody tr th:only-of-type {\n",
       "        vertical-align: middle;\n",
       "    }\n",
       "\n",
       "    .dataframe tbody tr th {\n",
       "        vertical-align: top;\n",
       "    }\n",
       "\n",
       "    .dataframe thead th {\n",
       "        text-align: right;\n",
       "    }\n",
       "</style>\n",
       "<table border=\"1\" class=\"dataframe\">\n",
       "  <thead>\n",
       "    <tr style=\"text-align: right;\">\n",
       "      <th></th>\n",
       "      <th>locality_name</th>\n",
       "      <th>living_area</th>\n",
       "      <th>new_living_area</th>\n",
       "    </tr>\n",
       "  </thead>\n",
       "  <tbody>\n",
       "    <tr>\n",
       "      <td>3</td>\n",
       "      <td>Санкт-Петербург</td>\n",
       "      <td>NaN</td>\n",
       "      <td>31.30</td>\n",
       "    </tr>\n",
       "    <tr>\n",
       "      <td>7</td>\n",
       "      <td>Санкт-Петербург</td>\n",
       "      <td>NaN</td>\n",
       "      <td>31.30</td>\n",
       "    </tr>\n",
       "    <tr>\n",
       "      <td>30</td>\n",
       "      <td>Коммунар</td>\n",
       "      <td>NaN</td>\n",
       "      <td>28.70</td>\n",
       "    </tr>\n",
       "    <tr>\n",
       "      <td>37</td>\n",
       "      <td>поселок городского типа Красный Бор</td>\n",
       "      <td>NaN</td>\n",
       "      <td>28.20</td>\n",
       "    </tr>\n",
       "    <tr>\n",
       "      <td>44</td>\n",
       "      <td>Санкт-Петербург</td>\n",
       "      <td>NaN</td>\n",
       "      <td>31.30</td>\n",
       "    </tr>\n",
       "    <tr>\n",
       "      <td>...</td>\n",
       "      <td>...</td>\n",
       "      <td>...</td>\n",
       "      <td>...</td>\n",
       "    </tr>\n",
       "    <tr>\n",
       "      <td>23642</td>\n",
       "      <td>Колпино</td>\n",
       "      <td>NaN</td>\n",
       "      <td>29.95</td>\n",
       "    </tr>\n",
       "    <tr>\n",
       "      <td>23663</td>\n",
       "      <td>Санкт-Петербург</td>\n",
       "      <td>NaN</td>\n",
       "      <td>31.30</td>\n",
       "    </tr>\n",
       "    <tr>\n",
       "      <td>23670</td>\n",
       "      <td>поселок городского типа Синявино</td>\n",
       "      <td>NaN</td>\n",
       "      <td>31.00</td>\n",
       "    </tr>\n",
       "    <tr>\n",
       "      <td>23679</td>\n",
       "      <td>Сосновый Бор</td>\n",
       "      <td>NaN</td>\n",
       "      <td>30.00</td>\n",
       "    </tr>\n",
       "    <tr>\n",
       "      <td>23697</td>\n",
       "      <td>Санкт-Петербург</td>\n",
       "      <td>NaN</td>\n",
       "      <td>31.30</td>\n",
       "    </tr>\n",
       "  </tbody>\n",
       "</table>\n",
       "<p>1898 rows × 3 columns</p>\n",
       "</div>"
      ],
      "text/plain": [
       "                             locality_name  living_area  new_living_area\n",
       "3                          Санкт-Петербург          NaN            31.30\n",
       "7                          Санкт-Петербург          NaN            31.30\n",
       "30                                Коммунар          NaN            28.70\n",
       "37     поселок городского типа Красный Бор          NaN            28.20\n",
       "44                         Санкт-Петербург          NaN            31.30\n",
       "...                                    ...          ...              ...\n",
       "23642                              Колпино          NaN            29.95\n",
       "23663                      Санкт-Петербург          NaN            31.30\n",
       "23670     поселок городского типа Синявино          NaN            31.00\n",
       "23679                         Сосновый Бор          NaN            30.00\n",
       "23697                      Санкт-Петербург          NaN            31.30\n",
       "\n",
       "[1898 rows x 3 columns]"
      ]
     },
     "execution_count": 13,
     "metadata": {},
     "output_type": "execute_result"
    }
   ],
   "source": [
    "flat['living_area'].isna().sum()\n",
    "\n",
    "flat['new_living_area'] = flat['living_area']\n",
    "\n",
    "for locality_name in flat['locality_name'].unique():\n",
    "    #считаем медиану\n",
    "    median_living_area = flat[flat['locality_name'] == locality_name]['living_area'].median()\n",
    "    #заполняем пропуски в нужной группе\n",
    "    flat.loc[(flat['new_living_area'].isna()) & (flat['locality_name'] == locality_name), 'new_living_area'] = median_living_area\n",
    "   \n",
    "flat[['locality_name','living_area','new_living_area']].query('living_area.isna()')"
   ]
  },
  {
   "cell_type": "markdown",
   "metadata": {},
   "source": [
    "Аналогично сделаем с полем living_area,kitchen_area также добавляем новые стобцы. Что за ошибку выдает не понял, но вроде бы всё работает как надо:-)"
   ]
  },
  {
   "cell_type": "code",
   "execution_count": 14,
   "metadata": {},
   "outputs": [
    {
     "data": {
      "text/html": [
       "<div>\n",
       "<style scoped>\n",
       "    .dataframe tbody tr th:only-of-type {\n",
       "        vertical-align: middle;\n",
       "    }\n",
       "\n",
       "    .dataframe tbody tr th {\n",
       "        vertical-align: top;\n",
       "    }\n",
       "\n",
       "    .dataframe thead th {\n",
       "        text-align: right;\n",
       "    }\n",
       "</style>\n",
       "<table border=\"1\" class=\"dataframe\">\n",
       "  <thead>\n",
       "    <tr style=\"text-align: right;\">\n",
       "      <th></th>\n",
       "      <th>locality_name</th>\n",
       "      <th>kitchen_area</th>\n",
       "      <th>new_kitchen_area</th>\n",
       "    </tr>\n",
       "  </thead>\n",
       "  <tbody>\n",
       "    <tr>\n",
       "      <td>3</td>\n",
       "      <td>Санкт-Петербург</td>\n",
       "      <td>NaN</td>\n",
       "      <td>9.90</td>\n",
       "    </tr>\n",
       "    <tr>\n",
       "      <td>30</td>\n",
       "      <td>Коммунар</td>\n",
       "      <td>NaN</td>\n",
       "      <td>8.35</td>\n",
       "    </tr>\n",
       "    <tr>\n",
       "      <td>37</td>\n",
       "      <td>поселок городского типа Красный Бор</td>\n",
       "      <td>NaN</td>\n",
       "      <td>6.95</td>\n",
       "    </tr>\n",
       "    <tr>\n",
       "      <td>44</td>\n",
       "      <td>Санкт-Петербург</td>\n",
       "      <td>NaN</td>\n",
       "      <td>9.90</td>\n",
       "    </tr>\n",
       "    <tr>\n",
       "      <td>59</td>\n",
       "      <td>Санкт-Петербург</td>\n",
       "      <td>NaN</td>\n",
       "      <td>9.90</td>\n",
       "    </tr>\n",
       "    <tr>\n",
       "      <td>...</td>\n",
       "      <td>...</td>\n",
       "      <td>...</td>\n",
       "      <td>...</td>\n",
       "    </tr>\n",
       "    <tr>\n",
       "      <td>23655</td>\n",
       "      <td>Никольское</td>\n",
       "      <td>NaN</td>\n",
       "      <td>8.30</td>\n",
       "    </tr>\n",
       "    <tr>\n",
       "      <td>23663</td>\n",
       "      <td>Санкт-Петербург</td>\n",
       "      <td>NaN</td>\n",
       "      <td>9.90</td>\n",
       "    </tr>\n",
       "    <tr>\n",
       "      <td>23670</td>\n",
       "      <td>поселок городского типа Синявино</td>\n",
       "      <td>NaN</td>\n",
       "      <td>9.00</td>\n",
       "    </tr>\n",
       "    <tr>\n",
       "      <td>23679</td>\n",
       "      <td>Сосновый Бор</td>\n",
       "      <td>NaN</td>\n",
       "      <td>8.20</td>\n",
       "    </tr>\n",
       "    <tr>\n",
       "      <td>23696</td>\n",
       "      <td>село Рождествено</td>\n",
       "      <td>NaN</td>\n",
       "      <td>8.15</td>\n",
       "    </tr>\n",
       "  </tbody>\n",
       "</table>\n",
       "<p>2269 rows × 3 columns</p>\n",
       "</div>"
      ],
      "text/plain": [
       "                             locality_name  kitchen_area  new_kitchen_area\n",
       "3                          Санкт-Петербург           NaN              9.90\n",
       "30                                Коммунар           NaN              8.35\n",
       "37     поселок городского типа Красный Бор           NaN              6.95\n",
       "44                         Санкт-Петербург           NaN              9.90\n",
       "59                         Санкт-Петербург           NaN              9.90\n",
       "...                                    ...           ...               ...\n",
       "23655                           Никольское           NaN              8.30\n",
       "23663                      Санкт-Петербург           NaN              9.90\n",
       "23670     поселок городского типа Синявино           NaN              9.00\n",
       "23679                         Сосновый Бор           NaN              8.20\n",
       "23696                     село Рождествено           NaN              8.15\n",
       "\n",
       "[2269 rows x 3 columns]"
      ]
     },
     "execution_count": 14,
     "metadata": {},
     "output_type": "execute_result"
    }
   ],
   "source": [
    "flat['kitchen_area'].isna().sum()\n",
    "\n",
    "flat['new_kitchen_area'] = flat['kitchen_area']\n",
    "\n",
    "for locality_name in flat['locality_name'].unique():\n",
    "    #считаем медиану\n",
    "    median_kitchen_area = flat[flat['locality_name'] == locality_name]['kitchen_area'].median()\n",
    "    #заполняем пропуски в нужной группе\n",
    "    flat.loc[(flat['new_kitchen_area'].isna()) & (flat['locality_name'] == locality_name), 'new_kitchen_area'] = median_kitchen_area\n",
    "   \n",
    "flat[['locality_name','kitchen_area','new_kitchen_area']].query('kitchen_area.isna()')"
   ]
  },
  {
   "cell_type": "code",
   "execution_count": 15,
   "metadata": {},
   "outputs": [],
   "source": [
    "flat['last_price'] = flat['last_price'].astype('int')\n",
    "flat['total_area'] = flat['total_area'].astype('int')\n",
    "flat['new_floors_total'] = flat['new_floors_total'].astype('int')     "
   ]
  },
  {
   "cell_type": "markdown",
   "metadata": {},
   "source": [
    "Переводим дробные значения цен и жилой площади в формат int для проведения дальнейших расчетов"
   ]
  },
  {
   "cell_type": "markdown",
   "metadata": {},
   "source": [
    "### Шаг 3. Посчитайте и добавьте в таблицу"
   ]
  },
  {
   "cell_type": "code",
   "execution_count": 16,
   "metadata": {},
   "outputs": [
    {
     "data": {
      "text/plain": [
       "0    120370\n",
       "1     83750\n",
       "2     92785\n",
       "3    408176\n",
       "4    100000\n",
       "Name: price_meter, dtype: int64"
      ]
     },
     "execution_count": 16,
     "metadata": {},
     "output_type": "execute_result"
    }
   ],
   "source": [
    "flat['price_meter'] = (flat['last_price'] / flat['total_area']).astype('int')\n",
    "flat['price_meter'].head()"
   ]
  },
  {
   "cell_type": "markdown",
   "metadata": {},
   "source": [
    "Считаем цена на 1 кв. метр. Добавляем новый столбец price_meter"
   ]
  },
  {
   "cell_type": "code",
   "execution_count": 17,
   "metadata": {},
   "outputs": [
    {
     "data": {
      "text/plain": [
       "0   2019-03-07\n",
       "1   2018-12-04\n",
       "2   2015-08-20\n",
       "3   2015-07-24\n",
       "4   2018-06-19\n",
       "Name: first_day_exposition_new, dtype: datetime64[ns]"
      ]
     },
     "execution_count": 17,
     "metadata": {},
     "output_type": "execute_result"
    }
   ],
   "source": [
    "flat['first_day_exposition_new'] = pd.to_datetime(flat['first_day_exposition'], format ='%Y-%m-%dT%H:%M:%S').dt.round('1D')\n",
    "flat['year'] = flat['first_day_exposition_new'].dt.year\n",
    "flat['month'] = flat['first_day_exposition_new'].dt.month\n",
    "flat['date'] = flat['first_day_exposition_new'].dt.weekday\n",
    "\n",
    "# дату округляем до ближайшего значения с шагом в один день\n",
    "\n",
    "flat['first_day_exposition_new'].head(5)"
   ]
  },
  {
   "cell_type": "markdown",
   "metadata": {},
   "source": [
    "Приводим поле с датой в нужный вид. Убираем значения с временем. Также расчитываем отдельно и добаляем столбцы с годом, месяцем и днем. Это в дальнейшем пригодится нам исследовании."
   ]
  },
  {
   "cell_type": "code",
   "execution_count": 18,
   "metadata": {},
   "outputs": [
    {
     "data": {
      "text/plain": [
       "dtype('int64')"
      ]
     },
     "execution_count": 18,
     "metadata": {},
     "output_type": "execute_result"
    }
   ],
   "source": [
    "flat['date'] = flat['date'].astype('int')\n",
    "flat['date'].dtypes"
   ]
  },
  {
   "cell_type": "markdown",
   "metadata": {},
   "source": [
    "Столбец с днями недели приводим к числовому формату, чтобы можно было считать корреляции в будущем."
   ]
  },
  {
   "cell_type": "code",
   "execution_count": 19,
   "metadata": {},
   "outputs": [
    {
     "data": {
      "text/html": [
       "<div>\n",
       "<style scoped>\n",
       "    .dataframe tbody tr th:only-of-type {\n",
       "        vertical-align: middle;\n",
       "    }\n",
       "\n",
       "    .dataframe tbody tr th {\n",
       "        vertical-align: top;\n",
       "    }\n",
       "\n",
       "    .dataframe thead th {\n",
       "        text-align: right;\n",
       "    }\n",
       "</style>\n",
       "<table border=\"1\" class=\"dataframe\">\n",
       "  <thead>\n",
       "    <tr style=\"text-align: right;\">\n",
       "      <th></th>\n",
       "      <th>total_images</th>\n",
       "      <th>last_price</th>\n",
       "      <th>total_area</th>\n",
       "      <th>first_day_exposition</th>\n",
       "      <th>rooms</th>\n",
       "      <th>ceiling_height</th>\n",
       "      <th>floors_total</th>\n",
       "      <th>living_area</th>\n",
       "      <th>floor</th>\n",
       "      <th>is_apartment</th>\n",
       "      <th>...</th>\n",
       "      <th>days_exposition</th>\n",
       "      <th>new_floors_total</th>\n",
       "      <th>new_living_area</th>\n",
       "      <th>new_kitchen_area</th>\n",
       "      <th>price_meter</th>\n",
       "      <th>first_day_exposition_new</th>\n",
       "      <th>year</th>\n",
       "      <th>month</th>\n",
       "      <th>date</th>\n",
       "      <th>flat_floor</th>\n",
       "    </tr>\n",
       "  </thead>\n",
       "  <tbody>\n",
       "    <tr>\n",
       "      <td>0</td>\n",
       "      <td>20</td>\n",
       "      <td>13000000</td>\n",
       "      <td>108</td>\n",
       "      <td>2019-03-07T00:00:00</td>\n",
       "      <td>3</td>\n",
       "      <td>2.70</td>\n",
       "      <td>16.0</td>\n",
       "      <td>51.0</td>\n",
       "      <td>8</td>\n",
       "      <td>False</td>\n",
       "      <td>...</td>\n",
       "      <td>NaN</td>\n",
       "      <td>16</td>\n",
       "      <td>51.0</td>\n",
       "      <td>25.0</td>\n",
       "      <td>120370</td>\n",
       "      <td>2019-03-07</td>\n",
       "      <td>2019</td>\n",
       "      <td>3</td>\n",
       "      <td>3</td>\n",
       "      <td>другой</td>\n",
       "    </tr>\n",
       "    <tr>\n",
       "      <td>1</td>\n",
       "      <td>7</td>\n",
       "      <td>3350000</td>\n",
       "      <td>40</td>\n",
       "      <td>2018-12-04T00:00:00</td>\n",
       "      <td>1</td>\n",
       "      <td>2.65</td>\n",
       "      <td>11.0</td>\n",
       "      <td>18.6</td>\n",
       "      <td>1</td>\n",
       "      <td>False</td>\n",
       "      <td>...</td>\n",
       "      <td>81.0</td>\n",
       "      <td>11</td>\n",
       "      <td>18.6</td>\n",
       "      <td>11.0</td>\n",
       "      <td>83750</td>\n",
       "      <td>2018-12-04</td>\n",
       "      <td>2018</td>\n",
       "      <td>12</td>\n",
       "      <td>1</td>\n",
       "      <td>первый</td>\n",
       "    </tr>\n",
       "    <tr>\n",
       "      <td>2</td>\n",
       "      <td>10</td>\n",
       "      <td>5196000</td>\n",
       "      <td>56</td>\n",
       "      <td>2015-08-20T00:00:00</td>\n",
       "      <td>2</td>\n",
       "      <td>2.65</td>\n",
       "      <td>5.0</td>\n",
       "      <td>34.3</td>\n",
       "      <td>4</td>\n",
       "      <td>False</td>\n",
       "      <td>...</td>\n",
       "      <td>558.0</td>\n",
       "      <td>5</td>\n",
       "      <td>34.3</td>\n",
       "      <td>8.3</td>\n",
       "      <td>92785</td>\n",
       "      <td>2015-08-20</td>\n",
       "      <td>2015</td>\n",
       "      <td>8</td>\n",
       "      <td>3</td>\n",
       "      <td>другой</td>\n",
       "    </tr>\n",
       "    <tr>\n",
       "      <td>3</td>\n",
       "      <td>0</td>\n",
       "      <td>64900000</td>\n",
       "      <td>159</td>\n",
       "      <td>2015-07-24T00:00:00</td>\n",
       "      <td>3</td>\n",
       "      <td>2.65</td>\n",
       "      <td>14.0</td>\n",
       "      <td>NaN</td>\n",
       "      <td>9</td>\n",
       "      <td>False</td>\n",
       "      <td>...</td>\n",
       "      <td>424.0</td>\n",
       "      <td>14</td>\n",
       "      <td>31.3</td>\n",
       "      <td>9.9</td>\n",
       "      <td>408176</td>\n",
       "      <td>2015-07-24</td>\n",
       "      <td>2015</td>\n",
       "      <td>7</td>\n",
       "      <td>4</td>\n",
       "      <td>другой</td>\n",
       "    </tr>\n",
       "    <tr>\n",
       "      <td>4</td>\n",
       "      <td>2</td>\n",
       "      <td>10000000</td>\n",
       "      <td>100</td>\n",
       "      <td>2018-06-19T00:00:00</td>\n",
       "      <td>2</td>\n",
       "      <td>3.03</td>\n",
       "      <td>14.0</td>\n",
       "      <td>32.0</td>\n",
       "      <td>13</td>\n",
       "      <td>False</td>\n",
       "      <td>...</td>\n",
       "      <td>121.0</td>\n",
       "      <td>14</td>\n",
       "      <td>32.0</td>\n",
       "      <td>41.0</td>\n",
       "      <td>100000</td>\n",
       "      <td>2018-06-19</td>\n",
       "      <td>2018</td>\n",
       "      <td>6</td>\n",
       "      <td>1</td>\n",
       "      <td>другой</td>\n",
       "    </tr>\n",
       "  </tbody>\n",
       "</table>\n",
       "<p>5 rows × 31 columns</p>\n",
       "</div>"
      ],
      "text/plain": [
       "   total_images  last_price  total_area first_day_exposition  rooms  \\\n",
       "0            20    13000000         108  2019-03-07T00:00:00      3   \n",
       "1             7     3350000          40  2018-12-04T00:00:00      1   \n",
       "2            10     5196000          56  2015-08-20T00:00:00      2   \n",
       "3             0    64900000         159  2015-07-24T00:00:00      3   \n",
       "4             2    10000000         100  2018-06-19T00:00:00      2   \n",
       "\n",
       "   ceiling_height  floors_total  living_area  floor  is_apartment  ...  \\\n",
       "0            2.70          16.0         51.0      8         False  ...   \n",
       "1            2.65          11.0         18.6      1         False  ...   \n",
       "2            2.65           5.0         34.3      4         False  ...   \n",
       "3            2.65          14.0          NaN      9         False  ...   \n",
       "4            3.03          14.0         32.0     13         False  ...   \n",
       "\n",
       "   days_exposition  new_floors_total  new_living_area  new_kitchen_area  \\\n",
       "0              NaN                16             51.0              25.0   \n",
       "1             81.0                11             18.6              11.0   \n",
       "2            558.0                 5             34.3               8.3   \n",
       "3            424.0                14             31.3               9.9   \n",
       "4            121.0                14             32.0              41.0   \n",
       "\n",
       "  price_meter  first_day_exposition_new  year  month  date  flat_floor  \n",
       "0      120370                2019-03-07  2019      3     3      другой  \n",
       "1       83750                2018-12-04  2018     12     1      первый  \n",
       "2       92785                2015-08-20  2015      8     3      другой  \n",
       "3      408176                2015-07-24  2015      7     4      другой  \n",
       "4      100000                2018-06-19  2018      6     1      другой  \n",
       "\n",
       "[5 rows x 31 columns]"
      ]
     },
     "execution_count": 19,
     "metadata": {},
     "output_type": "execute_result"
    }
   ],
   "source": [
    "#добавим в таблицу: этаж квартиры: варианты — первый, последний, другой\n",
    "def floor (flat):\n",
    "    if flat['floor'] == flat['new_floors_total']:\n",
    "        return 'последний'\n",
    "    if flat['floor']  == 1:\n",
    "        return 'первый'\n",
    "    return 'другой'\n",
    "\n",
    "flat['flat_floor'] = flat.apply(floor,axis = 1)\n",
    "flat.head()"
   ]
  },
  {
   "cell_type": "markdown",
   "metadata": {},
   "source": [
    "Добавим в таблицу новый столбец flat_floor -этаж квартиры: варианты — первый, последний, другой. Для этого строим функцию."
   ]
  },
  {
   "cell_type": "code",
   "execution_count": 20,
   "metadata": {},
   "outputs": [
    {
     "data": {
      "text/html": [
       "<div>\n",
       "<style scoped>\n",
       "    .dataframe tbody tr th:only-of-type {\n",
       "        vertical-align: middle;\n",
       "    }\n",
       "\n",
       "    .dataframe tbody tr th {\n",
       "        vertical-align: top;\n",
       "    }\n",
       "\n",
       "    .dataframe thead th {\n",
       "        text-align: right;\n",
       "    }\n",
       "</style>\n",
       "<table border=\"1\" class=\"dataframe\">\n",
       "  <thead>\n",
       "    <tr style=\"text-align: right;\">\n",
       "      <th></th>\n",
       "      <th>total_images</th>\n",
       "      <th>last_price</th>\n",
       "      <th>total_area</th>\n",
       "      <th>first_day_exposition</th>\n",
       "      <th>rooms</th>\n",
       "      <th>ceiling_height</th>\n",
       "      <th>floors_total</th>\n",
       "      <th>living_area</th>\n",
       "      <th>floor</th>\n",
       "      <th>is_apartment</th>\n",
       "      <th>...</th>\n",
       "      <th>new_living_area</th>\n",
       "      <th>new_kitchen_area</th>\n",
       "      <th>price_meter</th>\n",
       "      <th>first_day_exposition_new</th>\n",
       "      <th>year</th>\n",
       "      <th>month</th>\n",
       "      <th>date</th>\n",
       "      <th>flat_floor</th>\n",
       "      <th>living_to_total</th>\n",
       "      <th>kitchen_to_total</th>\n",
       "    </tr>\n",
       "  </thead>\n",
       "  <tbody>\n",
       "    <tr>\n",
       "      <td>0</td>\n",
       "      <td>20</td>\n",
       "      <td>13000000</td>\n",
       "      <td>108</td>\n",
       "      <td>2019-03-07T00:00:00</td>\n",
       "      <td>3</td>\n",
       "      <td>2.70</td>\n",
       "      <td>16.0</td>\n",
       "      <td>51.0</td>\n",
       "      <td>8</td>\n",
       "      <td>False</td>\n",
       "      <td>...</td>\n",
       "      <td>51.0</td>\n",
       "      <td>25.0</td>\n",
       "      <td>120370</td>\n",
       "      <td>2019-03-07</td>\n",
       "      <td>2019</td>\n",
       "      <td>3</td>\n",
       "      <td>3</td>\n",
       "      <td>другой</td>\n",
       "      <td>23.148148</td>\n",
       "      <td>47.222222</td>\n",
       "    </tr>\n",
       "    <tr>\n",
       "      <td>1</td>\n",
       "      <td>7</td>\n",
       "      <td>3350000</td>\n",
       "      <td>40</td>\n",
       "      <td>2018-12-04T00:00:00</td>\n",
       "      <td>1</td>\n",
       "      <td>2.65</td>\n",
       "      <td>11.0</td>\n",
       "      <td>18.6</td>\n",
       "      <td>1</td>\n",
       "      <td>False</td>\n",
       "      <td>...</td>\n",
       "      <td>18.6</td>\n",
       "      <td>11.0</td>\n",
       "      <td>83750</td>\n",
       "      <td>2018-12-04</td>\n",
       "      <td>2018</td>\n",
       "      <td>12</td>\n",
       "      <td>1</td>\n",
       "      <td>первый</td>\n",
       "      <td>27.500000</td>\n",
       "      <td>46.500000</td>\n",
       "    </tr>\n",
       "    <tr>\n",
       "      <td>2</td>\n",
       "      <td>10</td>\n",
       "      <td>5196000</td>\n",
       "      <td>56</td>\n",
       "      <td>2015-08-20T00:00:00</td>\n",
       "      <td>2</td>\n",
       "      <td>2.65</td>\n",
       "      <td>5.0</td>\n",
       "      <td>34.3</td>\n",
       "      <td>4</td>\n",
       "      <td>False</td>\n",
       "      <td>...</td>\n",
       "      <td>34.3</td>\n",
       "      <td>8.3</td>\n",
       "      <td>92785</td>\n",
       "      <td>2015-08-20</td>\n",
       "      <td>2015</td>\n",
       "      <td>8</td>\n",
       "      <td>3</td>\n",
       "      <td>другой</td>\n",
       "      <td>14.821429</td>\n",
       "      <td>61.250000</td>\n",
       "    </tr>\n",
       "    <tr>\n",
       "      <td>3</td>\n",
       "      <td>0</td>\n",
       "      <td>64900000</td>\n",
       "      <td>159</td>\n",
       "      <td>2015-07-24T00:00:00</td>\n",
       "      <td>3</td>\n",
       "      <td>2.65</td>\n",
       "      <td>14.0</td>\n",
       "      <td>NaN</td>\n",
       "      <td>9</td>\n",
       "      <td>False</td>\n",
       "      <td>...</td>\n",
       "      <td>31.3</td>\n",
       "      <td>9.9</td>\n",
       "      <td>408176</td>\n",
       "      <td>2015-07-24</td>\n",
       "      <td>2015</td>\n",
       "      <td>7</td>\n",
       "      <td>4</td>\n",
       "      <td>другой</td>\n",
       "      <td>6.226415</td>\n",
       "      <td>19.685535</td>\n",
       "    </tr>\n",
       "    <tr>\n",
       "      <td>4</td>\n",
       "      <td>2</td>\n",
       "      <td>10000000</td>\n",
       "      <td>100</td>\n",
       "      <td>2018-06-19T00:00:00</td>\n",
       "      <td>2</td>\n",
       "      <td>3.03</td>\n",
       "      <td>14.0</td>\n",
       "      <td>32.0</td>\n",
       "      <td>13</td>\n",
       "      <td>False</td>\n",
       "      <td>...</td>\n",
       "      <td>32.0</td>\n",
       "      <td>41.0</td>\n",
       "      <td>100000</td>\n",
       "      <td>2018-06-19</td>\n",
       "      <td>2018</td>\n",
       "      <td>6</td>\n",
       "      <td>1</td>\n",
       "      <td>другой</td>\n",
       "      <td>41.000000</td>\n",
       "      <td>32.000000</td>\n",
       "    </tr>\n",
       "  </tbody>\n",
       "</table>\n",
       "<p>5 rows × 33 columns</p>\n",
       "</div>"
      ],
      "text/plain": [
       "   total_images  last_price  total_area first_day_exposition  rooms  \\\n",
       "0            20    13000000         108  2019-03-07T00:00:00      3   \n",
       "1             7     3350000          40  2018-12-04T00:00:00      1   \n",
       "2            10     5196000          56  2015-08-20T00:00:00      2   \n",
       "3             0    64900000         159  2015-07-24T00:00:00      3   \n",
       "4             2    10000000         100  2018-06-19T00:00:00      2   \n",
       "\n",
       "   ceiling_height  floors_total  living_area  floor  is_apartment  ...  \\\n",
       "0            2.70          16.0         51.0      8         False  ...   \n",
       "1            2.65          11.0         18.6      1         False  ...   \n",
       "2            2.65           5.0         34.3      4         False  ...   \n",
       "3            2.65          14.0          NaN      9         False  ...   \n",
       "4            3.03          14.0         32.0     13         False  ...   \n",
       "\n",
       "   new_living_area  new_kitchen_area  price_meter  first_day_exposition_new  \\\n",
       "0             51.0              25.0       120370                2019-03-07   \n",
       "1             18.6              11.0        83750                2018-12-04   \n",
       "2             34.3               8.3        92785                2015-08-20   \n",
       "3             31.3               9.9       408176                2015-07-24   \n",
       "4             32.0              41.0       100000                2018-06-19   \n",
       "\n",
       "   year  month  date  flat_floor  living_to_total  kitchen_to_total  \n",
       "0  2019      3     3      другой        23.148148         47.222222  \n",
       "1  2018     12     1      первый        27.500000         46.500000  \n",
       "2  2015      8     3      другой        14.821429         61.250000  \n",
       "3  2015      7     4      другой         6.226415         19.685535  \n",
       "4  2018      6     1      другой        41.000000         32.000000  \n",
       "\n",
       "[5 rows x 33 columns]"
      ]
     },
     "execution_count": 20,
     "metadata": {},
     "output_type": "execute_result"
    }
   ],
   "source": [
    "flat['living_to_total'] = (flat['new_kitchen_area'] / flat['total_area']) * 100\n",
    "flat['kitchen_to_total'] = (flat['new_living_area'] / flat['total_area']) * 100\n",
    "\n",
    "flat.head()"
   ]
  },
  {
   "cell_type": "markdown",
   "metadata": {},
   "source": [
    "Расчитаем долю жилой зоны и кухню к общей площади квартиры. Добавим столбцы living_to_total и kitchen_to_total"
   ]
  },
  {
   "cell_type": "markdown",
   "metadata": {},
   "source": [
    "### Шаг 4. Исследовательский анализ данных"
   ]
  },
  {
   "cell_type": "markdown",
   "metadata": {},
   "source": [
    "### Шаг 4.1 Изучим следующие параметры: площадь, цена, число комнат, высота потолков."
   ]
  },
  {
   "cell_type": "code",
   "execution_count": 21,
   "metadata": {},
   "outputs": [
    {
     "data": {
      "text/plain": [
       "(12, 900)"
      ]
     },
     "execution_count": 21,
     "metadata": {},
     "output_type": "execute_result"
    }
   ],
   "source": [
    "flat['total_area'].min(),flat['total_area'].max()"
   ]
  },
  {
   "cell_type": "code",
   "execution_count": 61,
   "metadata": {},
   "outputs": [
    {
     "data": {
      "text/plain": [
       "<matplotlib.axes._subplots.AxesSubplot at 0x7f51620479d0>"
      ]
     },
     "execution_count": 61,
     "metadata": {},
     "output_type": "execute_result"
    },
    {
     "data": {
      "image/png": "[encoded data removed]",
      "text/plain": [
       "<Figure size 432x288 with 1 Axes>"
      ]
     },
     "metadata": {
      "needs_background": "light"
     },
     "output_type": "display_data"
    }
   ],
   "source": [
    "flat['total_area'].hist(bins=100, range = (0, 400))"
   ]
  },
  {
   "cell_type": "code",
   "execution_count": 62,
   "metadata": {},
   "outputs": [
    {
     "data": {
      "image/png": "[encoded data removed]",
      "text/plain": [
       "<Figure size 432x288 with 1 Axes>"
      ]
     },
     "metadata": {
      "needs_background": "light"
     },
     "output_type": "display_data"
    }
   ],
   "source": [
    "flat.boxplot(column='total_area');\n",
    "plt.ylim(0, 400);\n",
    "plt.show();"
   ]
  },
  {
   "cell_type": "code",
   "execution_count": 23,
   "metadata": {
    "scrolled": true
   },
   "outputs": [
    {
     "data": {
      "text/plain": [
       "count        23650\n",
       "mean       6541126\n",
       "std       10896399\n",
       "min          12190\n",
       "25%        3400000\n",
       "50%        4650000\n",
       "75%        6799000\n",
       "max      763000000\n",
       "Name: last_price, dtype: int64"
      ]
     },
     "execution_count": 23,
     "metadata": {},
     "output_type": "execute_result"
    }
   ],
   "source": [
    "flat['last_price'].describe().astype('int')"
   ]
  },
  {
   "cell_type": "code",
   "execution_count": 24,
   "metadata": {},
   "outputs": [
    {
     "data": {
      "text/plain": [
       "<matplotlib.axes._subplots.AxesSubplot at 0x7f516cb517d0>"
      ]
     },
     "execution_count": 24,
     "metadata": {},
     "output_type": "execute_result"
    },
    {
     "data": {
      "image/png": "[encoded data removed]",
      "text/plain": [
       "<Figure size 432x288 with 1 Axes>"
      ]
     },
     "metadata": {
      "needs_background": "light"
     },
     "output_type": "display_data"
    }
   ],
   "source": [
    "flat['last_price'].hist(bins=50, range = (0, 40000000))"
   ]
  },
  {
   "cell_type": "code",
   "execution_count": 63,
   "metadata": {},
   "outputs": [
    {
     "data": {
      "image/png": "[encoded data removed]",
      "text/plain": [
       "<Figure size 432x288 with 1 Axes>"
      ]
     },
     "metadata": {
      "needs_background": "light"
     },
     "output_type": "display_data"
    }
   ],
   "source": [
    "flat.boxplot(column='last_price');\n",
    "plt.ylim(0, 40000000);\n",
    "plt.show();"
   ]
  },
  {
   "cell_type": "code",
   "execution_count": 25,
   "metadata": {},
   "outputs": [
    {
     "data": {
      "text/plain": [
       "count    23650\n",
       "mean         2\n",
       "std          1\n",
       "min          0\n",
       "25%          1\n",
       "50%          2\n",
       "75%          3\n",
       "max         19\n",
       "Name: rooms, dtype: int64"
      ]
     },
     "execution_count": 25,
     "metadata": {},
     "output_type": "execute_result"
    }
   ],
   "source": [
    "flat['rooms'].describe().astype('int')"
   ]
  },
  {
   "cell_type": "code",
   "execution_count": 26,
   "metadata": {},
   "outputs": [
    {
     "data": {
      "text/plain": [
       "<matplotlib.axes._subplots.AxesSubplot at 0x7f516c445350>"
      ]
     },
     "execution_count": 26,
     "metadata": {},
     "output_type": "execute_result"
    },
    {
     "data": {
      "image/png": "[encoded data removed]",
      "text/plain": [
       "<Figure size 432x288 with 1 Axes>"
      ]
     },
     "metadata": {
      "needs_background": "light"
     },
     "output_type": "display_data"
    }
   ],
   "source": [
    "flat['rooms'].hist(bins=30, range = (1, 19))"
   ]
  },
  {
   "cell_type": "code",
   "execution_count": 66,
   "metadata": {},
   "outputs": [
    {
     "data": {
      "image/png": "[encoded data removed]",
      "text/plain": [
       "<Figure size 432x288 with 1 Axes>"
      ]
     },
     "metadata": {
      "needs_background": "light"
     },
     "output_type": "display_data"
    }
   ],
   "source": [
    "flat.boxplot(column='rooms');\n",
    "plt.ylim(1, 19);\n",
    "plt.show();"
   ]
  },
  {
   "cell_type": "code",
   "execution_count": 27,
   "metadata": {},
   "outputs": [
    {
     "data": {
      "text/plain": [
       "(1.0, 100.0)"
      ]
     },
     "execution_count": 27,
     "metadata": {},
     "output_type": "execute_result"
    }
   ],
   "source": [
    "flat['ceiling_height'].min(),flat['ceiling_height'].max()"
   ]
  },
  {
   "cell_type": "code",
   "execution_count": 28,
   "metadata": {},
   "outputs": [
    {
     "data": {
      "text/plain": [
       "<matplotlib.axes._subplots.AxesSubplot at 0x7f516c3f3dd0>"
      ]
     },
     "execution_count": 28,
     "metadata": {},
     "output_type": "execute_result"
    },
    {
     "data": {
      "image/png": "[encoded data removed]",
      "text/plain": [
       "<Figure size 432x288 with 1 Axes>"
      ]
     },
     "metadata": {
      "needs_background": "light"
     },
     "output_type": "display_data"
    }
   ],
   "source": [
    "flat['ceiling_height'].hist(bins=30, range = (2, 10))"
   ]
  },
  {
   "cell_type": "code",
   "execution_count": 68,
   "metadata": {},
   "outputs": [
    {
     "data": {
      "image/png": "[encoded data removed]",
      "text/plain": [
       "<Figure size 432x288 with 1 Axes>"
      ]
     },
     "metadata": {
      "needs_background": "light"
     },
     "output_type": "display_data"
    }
   ],
   "source": [
    "flat.boxplot(column='ceiling_height');\n",
    "plt.ylim(1, 10);\n",
    "plt.show();"
   ]
  },
  {
   "cell_type": "markdown",
   "metadata": {},
   "source": [
    "Изучим время продажи квартиры. Построим гистограмму. Выявим среднее и медиану списка."
   ]
  },
  {
   "cell_type": "code",
   "execution_count": 29,
   "metadata": {},
   "outputs": [
    {
     "data": {
      "text/plain": [
       "count    20470\n",
       "mean       180\n",
       "std        219\n",
       "min          1\n",
       "25%         45\n",
       "50%         95\n",
       "75%        231\n",
       "max       1580\n",
       "Name: days_exposition, dtype: int64"
      ]
     },
     "execution_count": 29,
     "metadata": {},
     "output_type": "execute_result"
    }
   ],
   "source": [
    "flat['days_exposition'].describe().astype('int')"
   ]
  },
  {
   "cell_type": "code",
   "execution_count": 30,
   "metadata": {},
   "outputs": [
    {
     "data": {
      "text/plain": [
       "<matplotlib.axes._subplots.AxesSubplot at 0x7f516c286ad0>"
      ]
     },
     "execution_count": 30,
     "metadata": {},
     "output_type": "execute_result"
    },
    {
     "data": {
      "image/png": "[encoded data removed]",
      "text/plain": [
       "<Figure size 432x288 with 1 Axes>"
      ]
     },
     "metadata": {
      "needs_background": "light"
     },
     "output_type": "display_data"
    }
   ],
   "source": [
    "flat['days_exposition'].hist(bins=100, range = (1, 1580))"
   ]
  },
  {
   "cell_type": "code",
   "execution_count": 31,
   "metadata": {},
   "outputs": [
    {
     "data": {
      "image/png": "[encoded data removed]",
      "text/plain": [
       "<Figure size 432x288 with 1 Axes>"
      ]
     },
     "metadata": {
      "needs_background": "light"
     },
     "output_type": "display_data"
    }
   ],
   "source": [
    "flat.boxplot(column='days_exposition')\n",
    "plt.ylim(0, 600)\n",
    "plt.show()"
   ]
  },
  {
   "cell_type": "markdown",
   "metadata": {},
   "source": [
    "В среднем продажа квартиры занимает 180 дней. Считать продажу очень быстрой можно если она заняла менее 45 дней, необычно долгими продажи можно считать, если они заняли свыше  231 дня."
   ]
  },
  {
   "cell_type": "markdown",
   "metadata": {},
   "source": [
    "### Шаг 4.2. Убираем редкие и выбивающиеся значения"
   ]
  },
  {
   "cell_type": "code",
   "execution_count": 32,
   "metadata": {},
   "outputs": [
    {
     "data": {
      "text/plain": [
       "<matplotlib.axes._subplots.AxesSubplot at 0x7f516c039c10>"
      ]
     },
     "execution_count": 32,
     "metadata": {},
     "output_type": "execute_result"
    },
    {
     "data": {
      "image/png": "[encoded data removed]",
      "text/plain": [
       "<Figure size 432x288 with 1 Axes>"
      ]
     },
     "metadata": {
      "needs_background": "light"
     },
     "output_type": "display_data"
    }
   ],
   "source": [
    "flat['total_area'].hist(bins=100, range = (0, 250))"
   ]
  },
  {
   "cell_type": "code",
   "execution_count": 33,
   "metadata": {},
   "outputs": [
    {
     "data": {
      "image/png": "[encoded data removed]",
      "text/plain": [
       "<Figure size 432x288 with 1 Axes>"
      ]
     },
     "metadata": {
      "needs_background": "light"
     },
     "output_type": "display_data"
    }
   ],
   "source": [
    "flat.boxplot(column='total_area')\n",
    "plt.ylim(0, 500)\n",
    "plt.show()"
   ]
  },
  {
   "cell_type": "markdown",
   "metadata": {},
   "source": [
    "Площадь квартир более 200 метров уже редкость. Больше 250 практически нет. \n",
    "Применим верхнюю границу 150 метров, отбросим остальные значения мы не потеряем много данных."
   ]
  },
  {
   "cell_type": "code",
   "execution_count": 34,
   "metadata": {},
   "outputs": [
    {
     "data": {
      "text/plain": [
       "<matplotlib.axes._subplots.AxesSubplot at 0x7f516b8095d0>"
      ]
     },
     "execution_count": 34,
     "metadata": {},
     "output_type": "execute_result"
    },
    {
     "data": {
      "image/png": "[encoded data removed]",
      "text/plain": [
       "<Figure size 432x288 with 1 Axes>"
      ]
     },
     "metadata": {
      "needs_background": "light"
     },
     "output_type": "display_data"
    }
   ],
   "source": [
    "flat['last_price'].hist(bins=50, range = (300000, 30000000))"
   ]
  },
  {
   "cell_type": "code",
   "execution_count": 35,
   "metadata": {},
   "outputs": [
    {
     "data": {
      "image/png": "[encoded data removed]",
      "text/plain": [
       "<Figure size 432x288 with 1 Axes>"
      ]
     },
     "metadata": {
      "needs_background": "light"
     },
     "output_type": "display_data"
    }
   ],
   "source": [
    "flat.boxplot(column='last_price')\n",
    "plt.ylim(0, 20000000)\n",
    "plt.show()"
   ]
  },
  {
   "cell_type": "markdown",
   "metadata": {},
   "source": [
    "Цена квартир более 15 млн уже редкость. Больше 25 млн практически нет. Предлагаю отбросить значения свыше 15 млн."
   ]
  },
  {
   "cell_type": "code",
   "execution_count": 36,
   "metadata": {},
   "outputs": [
    {
     "data": {
      "text/plain": [
       "<matplotlib.axes._subplots.AxesSubplot at 0x7f516b614c10>"
      ]
     },
     "execution_count": 36,
     "metadata": {},
     "output_type": "execute_result"
    },
    {
     "data": {
      "image/png": "[encoded data removed]",
      "text/plain": [
       "<Figure size 432x288 with 1 Axes>"
      ]
     },
     "metadata": {
      "needs_background": "light"
     },
     "output_type": "display_data"
    }
   ],
   "source": [
    "flat['ceiling_height'].hist(bins=30, range = (2.4, 3.25))"
   ]
  },
  {
   "cell_type": "code",
   "execution_count": 37,
   "metadata": {},
   "outputs": [
    {
     "data": {
      "image/png": "[encoded data removed]",
      "text/plain": [
       "<Figure size 432x288 with 1 Axes>"
      ]
     },
     "metadata": {
      "needs_background": "light"
     },
     "output_type": "display_data"
    }
   ],
   "source": [
    "flat.boxplot(column='ceiling_height')\n",
    "plt.ylim(2, 4)\n",
    "plt.show()"
   ]
  },
  {
   "cell_type": "markdown",
   "metadata": {},
   "source": [
    "Высота потолков более 2,75 метров уже редкость. Больше 4 метров практически нет, меньше 2.4 тоже. Думаю стоит отбросить значения свыше 4 м, так как в дальнейшем нам потребуется оценивать жилье в центре петербурга то данные от 3 до 4 возможно потребуются."
   ]
  },
  {
   "cell_type": "code",
   "execution_count": 38,
   "metadata": {},
   "outputs": [
    {
     "data": {
      "text/plain": [
       "<matplotlib.axes._subplots.AxesSubplot at 0x7f516b7ffd50>"
      ]
     },
     "execution_count": 38,
     "metadata": {},
     "output_type": "execute_result"
    },
    {
     "data": {
      "image/png": "[encoded data removed]",
      "text/plain": [
       "<Figure size 432x288 with 1 Axes>"
      ]
     },
     "metadata": {
      "needs_background": "light"
     },
     "output_type": "display_data"
    }
   ],
   "source": [
    "flat['days_exposition'].hist(bins=100, range = (1, 600))"
   ]
  },
  {
   "cell_type": "code",
   "execution_count": 39,
   "metadata": {},
   "outputs": [
    {
     "data": {
      "image/png": "[encoded data removed]",
      "text/plain": [
       "<Figure size 432x288 with 1 Axes>"
      ]
     },
     "metadata": {
      "needs_background": "light"
     },
     "output_type": "display_data"
    }
   ],
   "source": [
    "flat.boxplot(column='days_exposition')\n",
    "plt.ylim(0, 600)\n",
    "plt.show()"
   ]
  },
  {
   "cell_type": "markdown",
   "metadata": {},
   "source": [
    "В редких случаях квартира продавалась свыше 500 дней. Применим верхнюю границу в 500 дней. \n",
    "Отбросим остальные значения мы не потеряем много данных."
   ]
  },
  {
   "cell_type": "markdown",
   "metadata": {},
   "source": [
    "Создаем список с хорошими значениями good stat"
   ]
  },
  {
   "cell_type": "code",
   "execution_count": 40,
   "metadata": {},
   "outputs": [
    {
     "name": "stdout",
     "output_type": "stream",
     "text": [
      "<class 'pandas.core.frame.DataFrame'>\n",
      "Int64Index: 17923 entries, 1 to 23695\n",
      "Data columns (total 33 columns):\n",
      "total_images                17923 non-null int64\n",
      "last_price                  17923 non-null int64\n",
      "total_area                  17923 non-null int64\n",
      "first_day_exposition        17923 non-null object\n",
      "rooms                       17923 non-null int64\n",
      "ceiling_height              17923 non-null float64\n",
      "floors_total                17857 non-null float64\n",
      "living_area                 16412 non-null float64\n",
      "floor                       17923 non-null int64\n",
      "is_apartment                17923 non-null bool\n",
      "studio                      17923 non-null bool\n",
      "open_plan                   17923 non-null bool\n",
      "kitchen_area                16065 non-null float64\n",
      "balcony                     17923 non-null float64\n",
      "locality_name               17923 non-null object\n",
      "airports_nearest            13656 non-null float64\n",
      "cityCenters_nearest         13672 non-null float64\n",
      "parks_around3000            13672 non-null float64\n",
      "parks_nearest               5699 non-null float64\n",
      "ponds_around3000            13672 non-null float64\n",
      "ponds_nearest               6559 non-null float64\n",
      "days_exposition             17923 non-null float64\n",
      "new_floors_total            17923 non-null int64\n",
      "new_living_area             17910 non-null float64\n",
      "new_kitchen_area            17907 non-null float64\n",
      "price_meter                 17923 non-null int64\n",
      "first_day_exposition_new    17923 non-null datetime64[ns]\n",
      "year                        17923 non-null int64\n",
      "month                       17923 non-null int64\n",
      "date                        17923 non-null int64\n",
      "flat_floor                  17923 non-null object\n",
      "living_to_total             17907 non-null float64\n",
      "kitchen_to_total            17910 non-null float64\n",
      "dtypes: bool(3), datetime64[ns](1), float64(16), int64(10), object(3)\n",
      "memory usage: 4.3+ MB\n"
     ]
    }
   ],
   "source": [
    "good_stat = flat.query('last_price <= 15000000 & total_area <= 150 & 2.4 <= ceiling_height <= 4 & days_exposition <= 500') \n",
    "good_stat.info()"
   ]
  },
  {
   "cell_type": "markdown",
   "metadata": {},
   "source": [
    "### Шаг 4.3 Какие факторы больше всего влияют на стоимость квартиры? \n",
    "1. Изучим, зависит ли цена от квадратного метра, числа комнат, удалённости от центра. \n",
    "2. Изучим зависимость цены от того, на каком этаже расположена квартира: первом, последнем или другом. \n",
    "3. Также изучим зависимость от даты размещения: дня недели, месяца и года."
   ]
  },
  {
   "cell_type": "code",
   "execution_count": 41,
   "metadata": {
    "scrolled": false
   },
   "outputs": [
    {
     "data": {
      "text/plain": [
       "0.7434705864979106"
      ]
     },
     "execution_count": 41,
     "metadata": {},
     "output_type": "execute_result"
    },
    {
     "data": {
      "image/png": "[encoded data removed]",
      "text/plain": [
       "<Figure size 864x432 with 1 Axes>"
      ]
     },
     "metadata": {
      "needs_background": "light"
     },
     "output_type": "display_data"
    }
   ],
   "source": [
    "good_stat.plot(x='total_area', y='last_price', kind='scatter', grid=True, figsize=(12, 6), alpha=0.3)\n",
    "\n",
    "good_stat['total_area'].corr(good_stat['last_price'])"
   ]
  },
  {
   "cell_type": "markdown",
   "metadata": {},
   "source": [
    "На графике видно что стоимость сильно зависит от площади квартиры. Также это подверждается при расчете коэффициента корреляции."
   ]
  },
  {
   "cell_type": "code",
   "execution_count": 43,
   "metadata": {},
   "outputs": [
    {
     "data": {
      "image/png": "[encoded data removed]",
      "text/plain": [
       "<Figure size 720x432 with 1 Axes>"
      ]
     },
     "metadata": {
      "needs_background": "light"
     },
     "output_type": "display_data"
    }
   ],
   "source": [
    "good_stat.boxplot(column='last_price', by='flat_floor', figsize=(10, 6))\n",
    "plt.show()"
   ]
  },
  {
   "cell_type": "markdown",
   "metadata": {},
   "source": [
    "Цена на квартиры на посднедних этажах и в категории другие имею примерно одинаковый диапозон цен. Квартиры на первых этаж обычно продаются по более низким ценам."
   ]
  },
  {
   "cell_type": "code",
   "execution_count": 71,
   "metadata": {},
   "outputs": [
    {
     "data": {
      "image/png": "[encoded data removed]",
      "text/plain": [
       "<Figure size 720x432 with 1 Axes>"
      ]
     },
     "metadata": {
      "needs_background": "light"
     },
     "output_type": "display_data"
    },
    {
     "data": {
      "text/plain": [
       "0.48077593041454536"
      ]
     },
     "execution_count": 71,
     "metadata": {},
     "output_type": "execute_result"
    }
   ],
   "source": [
    "good_stat.boxplot(column='last_price', by='rooms', figsize=(10, 6))\n",
    "plt.show()\n",
    "good_stat['rooms'].corr(good_stat['last_price'])"
   ]
  },
  {
   "cell_type": "markdown",
   "metadata": {},
   "source": [
    "Чем больше комнат тем больше цена на квартиры. Зависимость не такая сильная как в случае с удаленностью от центра, но тоже значительная."
   ]
  },
  {
   "cell_type": "code",
   "execution_count": 44,
   "metadata": {},
   "outputs": [
    {
     "data": {
      "text/plain": [
       "(2000000, 12000000)"
      ]
     },
     "execution_count": 44,
     "metadata": {},
     "output_type": "execute_result"
    },
    {
     "data": {
      "image/png": "[encoded data removed]",
      "text/plain": [
       "<Figure size 720x432 with 1 Axes>"
      ]
     },
     "metadata": {
      "needs_background": "light"
     },
     "output_type": "display_data"
    },
    {
     "data": {
      "image/png": "[encoded data removed]",
      "text/plain": [
       "<Figure size 720x432 with 1 Axes>"
      ]
     },
     "metadata": {
      "needs_background": "light"
     },
     "output_type": "display_data"
    },
    {
     "data": {
      "image/png": "[encoded data removed]",
      "text/plain": [
       "<Figure size 720x432 with 1 Axes>"
      ]
     },
     "metadata": {
      "needs_background": "light"
     },
     "output_type": "display_data"
    }
   ],
   "source": [
    "good_stat.boxplot(column='last_price', by='year',figsize=(10, 6));\n",
    "plt.ylim(2000000, 12000000);\n",
    "good_stat.boxplot(column='last_price', by='month',figsize=(10, 6));\n",
    "plt.ylim(2000000, 12000000)\n",
    "good_stat.boxplot(column='last_price', by='date',figsize=(10, 6));\n",
    "plt.ylim(2000000, 12000000)"
   ]
  },
  {
   "cell_type": "markdown",
   "metadata": {},
   "source": [
    "Цены квартиры больше в 2016 и 2019 году, низкие в 2015 и 2018. \n",
    "Наибольшие цены зафиксированы в апреле, августе и сентябре, наименьшая в октябре.\n",
    "Наибольшие цены зафиксированы по объявлениям размещенным в четверг и субботу, наименьшие в понедельник."
   ]
  },
  {
   "cell_type": "markdown",
   "metadata": {},
   "source": [
    "### Шаг 4.4 Выделим ТОП-10 населённых пунктов с наибольшим числом объявлений. "
   ]
  },
  {
   "cell_type": "code",
   "execution_count": 45,
   "metadata": {},
   "outputs": [
    {
     "data": {
      "text/html": [
       "<div>\n",
       "<style scoped>\n",
       "    .dataframe tbody tr th:only-of-type {\n",
       "        vertical-align: middle;\n",
       "    }\n",
       "\n",
       "    .dataframe tbody tr th {\n",
       "        vertical-align: top;\n",
       "    }\n",
       "\n",
       "    .dataframe thead th {\n",
       "        text-align: right;\n",
       "    }\n",
       "</style>\n",
       "<table border=\"1\" class=\"dataframe\">\n",
       "  <thead>\n",
       "    <tr style=\"text-align: right;\">\n",
       "      <th></th>\n",
       "      <th>count</th>\n",
       "      <th>mean_price</th>\n",
       "    </tr>\n",
       "    <tr>\n",
       "      <th>locality_name</th>\n",
       "      <th></th>\n",
       "      <th></th>\n",
       "    </tr>\n",
       "  </thead>\n",
       "  <tbody>\n",
       "    <tr>\n",
       "      <td>Санкт-Петербург</td>\n",
       "      <td>11677</td>\n",
       "      <td>106380.869658</td>\n",
       "    </tr>\n",
       "    <tr>\n",
       "      <td>поселок Мурино</td>\n",
       "      <td>515</td>\n",
       "      <td>86591.149515</td>\n",
       "    </tr>\n",
       "    <tr>\n",
       "      <td>поселок Шушары</td>\n",
       "      <td>385</td>\n",
       "      <td>78326.371429</td>\n",
       "    </tr>\n",
       "    <tr>\n",
       "      <td>Всеволожск</td>\n",
       "      <td>305</td>\n",
       "      <td>67043.688525</td>\n",
       "    </tr>\n",
       "    <tr>\n",
       "      <td>Колпино</td>\n",
       "      <td>292</td>\n",
       "      <td>74993.363014</td>\n",
       "    </tr>\n",
       "    <tr>\n",
       "      <td>поселок Парголово</td>\n",
       "      <td>286</td>\n",
       "      <td>89850.227273</td>\n",
       "    </tr>\n",
       "    <tr>\n",
       "      <td>Пушкин</td>\n",
       "      <td>267</td>\n",
       "      <td>100547.853933</td>\n",
       "    </tr>\n",
       "    <tr>\n",
       "      <td>деревня Кудрово</td>\n",
       "      <td>266</td>\n",
       "      <td>93189.928571</td>\n",
       "    </tr>\n",
       "    <tr>\n",
       "      <td>Гатчина</td>\n",
       "      <td>243</td>\n",
       "      <td>68349.086420</td>\n",
       "    </tr>\n",
       "    <tr>\n",
       "      <td>Выборг</td>\n",
       "      <td>190</td>\n",
       "      <td>57178.394737</td>\n",
       "    </tr>\n",
       "  </tbody>\n",
       "</table>\n",
       "</div>"
      ],
      "text/plain": [
       "                   count     mean_price\n",
       "locality_name                          \n",
       "Санкт-Петербург    11677  106380.869658\n",
       "поселок Мурино       515   86591.149515\n",
       "поселок Шушары       385   78326.371429\n",
       "Всеволожск           305   67043.688525\n",
       "Колпино              292   74993.363014\n",
       "поселок Парголово    286   89850.227273\n",
       "Пушкин               267  100547.853933\n",
       "деревня Кудрово      266   93189.928571\n",
       "Гатчина              243   68349.086420\n",
       "Выборг               190   57178.394737"
      ]
     },
     "execution_count": 45,
     "metadata": {},
     "output_type": "execute_result"
    }
   ],
   "source": [
    "data_pivot = good_stat.pivot_table(index = 'locality_name', values = 'price_meter', aggfunc = ['count','mean'])\n",
    "data_pivot.columns = ['count', 'mean_price']\n",
    "data_pivot.sort_values(by='count',ascending=False).head(10)\n",
    "#first_day_stat = area_stat.pivot_table(index= ['year','month'], values='last_prise', aggfunc='median')"
   ]
  },
  {
   "cell_type": "code",
   "execution_count": 46,
   "metadata": {},
   "outputs": [
    {
     "data": {
      "text/html": [
       "<div>\n",
       "<style scoped>\n",
       "    .dataframe tbody tr th:only-of-type {\n",
       "        vertical-align: middle;\n",
       "    }\n",
       "\n",
       "    .dataframe tbody tr th {\n",
       "        vertical-align: top;\n",
       "    }\n",
       "\n",
       "    .dataframe thead th {\n",
       "        text-align: right;\n",
       "    }\n",
       "</style>\n",
       "<table border=\"1\" class=\"dataframe\">\n",
       "  <thead>\n",
       "    <tr style=\"text-align: right;\">\n",
       "      <th></th>\n",
       "      <th>count</th>\n",
       "      <th>mean_price</th>\n",
       "    </tr>\n",
       "    <tr>\n",
       "      <th>locality_name</th>\n",
       "      <th></th>\n",
       "      <th></th>\n",
       "    </tr>\n",
       "  </thead>\n",
       "  <tbody>\n",
       "    <tr>\n",
       "      <td>поселок Лисий Нос</td>\n",
       "      <td>2</td>\n",
       "      <td>114316.500000</td>\n",
       "    </tr>\n",
       "    <tr>\n",
       "      <td>Санкт-Петербург</td>\n",
       "      <td>11677</td>\n",
       "      <td>106380.869658</td>\n",
       "    </tr>\n",
       "    <tr>\n",
       "      <td>Зеленогорск</td>\n",
       "      <td>19</td>\n",
       "      <td>103595.526316</td>\n",
       "    </tr>\n",
       "    <tr>\n",
       "      <td>Сестрорецк</td>\n",
       "      <td>142</td>\n",
       "      <td>100846.894366</td>\n",
       "    </tr>\n",
       "    <tr>\n",
       "      <td>Пушкин</td>\n",
       "      <td>267</td>\n",
       "      <td>100547.853933</td>\n",
       "    </tr>\n",
       "    <tr>\n",
       "      <td>Кудрово</td>\n",
       "      <td>137</td>\n",
       "      <td>98907.664234</td>\n",
       "    </tr>\n",
       "    <tr>\n",
       "      <td>поселок Левашово</td>\n",
       "      <td>1</td>\n",
       "      <td>97674.000000</td>\n",
       "    </tr>\n",
       "    <tr>\n",
       "      <td>деревня Мистолово</td>\n",
       "      <td>9</td>\n",
       "      <td>97360.000000</td>\n",
       "    </tr>\n",
       "    <tr>\n",
       "      <td>деревня Кудрово</td>\n",
       "      <td>266</td>\n",
       "      <td>93189.928571</td>\n",
       "    </tr>\n",
       "    <tr>\n",
       "      <td>поселок Репино</td>\n",
       "      <td>1</td>\n",
       "      <td>92727.000000</td>\n",
       "    </tr>\n",
       "  </tbody>\n",
       "</table>\n",
       "</div>"
      ],
      "text/plain": [
       "                   count     mean_price\n",
       "locality_name                          \n",
       "поселок Лисий Нос      2  114316.500000\n",
       "Санкт-Петербург    11677  106380.869658\n",
       "Зеленогорск           19  103595.526316\n",
       "Сестрорецк           142  100846.894366\n",
       "Пушкин               267  100547.853933\n",
       "Кудрово              137   98907.664234\n",
       "поселок Левашово       1   97674.000000\n",
       "деревня Мистолово      9   97360.000000\n",
       "деревня Кудрово      266   93189.928571\n",
       "поселок Репино         1   92727.000000"
      ]
     },
     "execution_count": 46,
     "metadata": {},
     "output_type": "execute_result"
    }
   ],
   "source": [
    "data_pivot.sort_values(by='mean_price',ascending=False).head(10)"
   ]
  },
  {
   "cell_type": "code",
   "execution_count": 47,
   "metadata": {},
   "outputs": [
    {
     "data": {
      "text/html": [
       "<div>\n",
       "<style scoped>\n",
       "    .dataframe tbody tr th:only-of-type {\n",
       "        vertical-align: middle;\n",
       "    }\n",
       "\n",
       "    .dataframe tbody tr th {\n",
       "        vertical-align: top;\n",
       "    }\n",
       "\n",
       "    .dataframe thead th {\n",
       "        text-align: right;\n",
       "    }\n",
       "</style>\n",
       "<table border=\"1\" class=\"dataframe\">\n",
       "  <thead>\n",
       "    <tr style=\"text-align: right;\">\n",
       "      <th></th>\n",
       "      <th>count</th>\n",
       "      <th>mean_price</th>\n",
       "    </tr>\n",
       "    <tr>\n",
       "      <th>locality_name</th>\n",
       "      <th></th>\n",
       "      <th></th>\n",
       "    </tr>\n",
       "  </thead>\n",
       "  <tbody>\n",
       "    <tr>\n",
       "      <td>поселок станции Лужайка</td>\n",
       "      <td>1</td>\n",
       "      <td>15000.000000</td>\n",
       "    </tr>\n",
       "    <tr>\n",
       "      <td>деревня Ям-Тесово</td>\n",
       "      <td>2</td>\n",
       "      <td>13797.000000</td>\n",
       "    </tr>\n",
       "    <tr>\n",
       "      <td>деревня Бор</td>\n",
       "      <td>1</td>\n",
       "      <td>13157.000000</td>\n",
       "    </tr>\n",
       "    <tr>\n",
       "      <td>поселок Тесово-4</td>\n",
       "      <td>1</td>\n",
       "      <td>12931.000000</td>\n",
       "    </tr>\n",
       "    <tr>\n",
       "      <td>деревня Малая Романовка</td>\n",
       "      <td>1</td>\n",
       "      <td>12878.000000</td>\n",
       "    </tr>\n",
       "    <tr>\n",
       "      <td>поселок Совхозный</td>\n",
       "      <td>2</td>\n",
       "      <td>12628.500000</td>\n",
       "    </tr>\n",
       "    <tr>\n",
       "      <td>деревня Выскатка</td>\n",
       "      <td>2</td>\n",
       "      <td>12335.000000</td>\n",
       "    </tr>\n",
       "    <tr>\n",
       "      <td>деревня Вахнова Кара</td>\n",
       "      <td>1</td>\n",
       "      <td>11842.000000</td>\n",
       "    </tr>\n",
       "    <tr>\n",
       "      <td>поселок станции Свирь</td>\n",
       "      <td>2</td>\n",
       "      <td>11481.000000</td>\n",
       "    </tr>\n",
       "    <tr>\n",
       "      <td>деревня Старополье</td>\n",
       "      <td>3</td>\n",
       "      <td>11238.333333</td>\n",
       "    </tr>\n",
       "  </tbody>\n",
       "</table>\n",
       "</div>"
      ],
      "text/plain": [
       "                         count    mean_price\n",
       "locality_name                               \n",
       "поселок станции Лужайка      1  15000.000000\n",
       "деревня Ям-Тесово            2  13797.000000\n",
       "деревня Бор                  1  13157.000000\n",
       "поселок Тесово-4             1  12931.000000\n",
       "деревня Малая Романовка      1  12878.000000\n",
       "поселок Совхозный            2  12628.500000\n",
       "деревня Выскатка             2  12335.000000\n",
       "деревня Вахнова Кара         1  11842.000000\n",
       "поселок станции Свирь        2  11481.000000\n",
       "деревня Старополье           3  11238.333333"
      ]
     },
     "execution_count": 47,
     "metadata": {},
     "output_type": "execute_result"
    }
   ],
   "source": [
    "data_pivot.sort_values(by='mean_price',ascending=False).tail(10)"
   ]
  },
  {
   "cell_type": "markdown",
   "metadata": {},
   "source": [
    "### Вывод\n",
    "Согласно данным таблицы самая большая цена квадратного метра в п.Лисий нос 114316 руб. Количество объявлений небольшое(2), наверное дачи Петербургских чиновников.\n",
    "В связи с этим большее внимание стоит уделить г.Санкт-Петербрг с средней ценой кв. метра 106380 руб. и количеством объявлений - 11677.\n",
    "\n",
    "Наименьшая цена кв. метра зафиксирована в деревне Старополье - 11238 руб."
   ]
  },
  {
   "cell_type": "markdown",
   "metadata": {},
   "source": [
    "### Шаг 4.5 Выделим сегмент квартир в центре. \n",
    "Проанализируем параметры: площадь, цена, число комнат, высота потолков"
   ]
  },
  {
   "cell_type": "code",
   "execution_count": 52,
   "metadata": {},
   "outputs": [
    {
     "name": "stderr",
     "output_type": "stream",
     "text": [
      "/opt/conda/lib/python3.7/site-packages/ipykernel_launcher.py:9: SettingWithCopyWarning: \n",
      "A value is trying to be set on a copy of a slice from a DataFrame.\n",
      "Try using .loc[row_indexer,col_indexer] = value instead\n",
      "\n",
      "See the caveats in the documentation: http://pandas.pydata.org/pandas-docs/stable/user_guide/indexing.html#returning-a-view-versus-a-copy\n",
      "  if __name__ == '__main__':\n",
      "/opt/conda/lib/python3.7/site-packages/ipykernel_launcher.py:12: SettingWithCopyWarning: \n",
      "A value is trying to be set on a copy of a slice from a DataFrame.\n",
      "Try using .loc[row_indexer,col_indexer] = value instead\n",
      "\n",
      "See the caveats in the documentation: http://pandas.pydata.org/pandas-docs/stable/user_guide/indexing.html#returning-a-view-versus-a-copy\n",
      "  if sys.path[0] == '':\n"
     ]
    },
    {
     "data": {
      "image/png": "[encoded data removed]",
      "text/plain": [
       "<Figure size 432x432 with 1 Axes>"
      ]
     },
     "metadata": {
      "needs_background": "light"
     },
     "output_type": "display_data"
    },
    {
     "data": {
      "image/png": "[encoded data removed]",
      "text/plain": [
       "<Figure size 432x432 with 1 Axes>"
      ]
     },
     "metadata": {
      "needs_background": "light"
     },
     "output_type": "display_data"
    }
   ],
   "source": [
    "KM_IN_M = 100\n",
    "\n",
    "petersburg_km = good_stat['cityCenters_nearest']\n",
    "\n",
    "def km_to_center(petersburg_km):\n",
    "    km = petersburg_km / KM_IN_M\n",
    "    return km\n",
    "\n",
    "good_stat['center_km'] = good_stat['cityCenters_nearest'].apply(km_to_center)\n",
    "petersburg = good_stat.query('locality_name == \"Санкт-Петербург\"')\n",
    "petersburg.head()\n",
    "petersburg['prise_km'] = petersburg['last_price'] / petersburg['center_km']\n",
    "\n",
    "petersburg.sort_values(by='center_km').plot(style='o', x='center_km',y='prise_km',figsize=(6,6));\n",
    "plt.xlim(0,30);\n",
    "plt.show();\n",
    "petersburg.sort_values(by='center_km').plot(style='o', x='center_km',y='prise_km',figsize=(6,6))\n",
    "plt.xlim(0,15);\n",
    "plt.show();"
   ]
  },
  {
   "cell_type": "markdown",
   "metadata": {},
   "source": [
    "Цена квартир начинает возрасть на расстоянии 6 км от центра. Возьмем эту величину как ориентир."
   ]
  },
  {
   "cell_type": "code",
   "execution_count": 77,
   "metadata": {
    "scrolled": false
   },
   "outputs": [
    {
     "data": {
      "image/png": "[encoded data removed]",
      "text/plain": [
       "<Figure size 432x288 with 1 Axes>"
      ]
     },
     "metadata": {
      "needs_background": "light"
     },
     "output_type": "display_data"
    },
    {
     "data": {
      "image/png": "[encoded data removed]",
      "text/plain": [
       "<Figure size 432x288 with 1 Axes>"
      ]
     },
     "metadata": {
      "needs_background": "light"
     },
     "output_type": "display_data"
    },
    {
     "name": "stdout",
     "output_type": "stream",
     "text": [
      "            ceiling_height  rooms  total_area\n",
      "last_price                                   \n",
      "5300000              2.650    3.0          49\n",
      "5800000              3.700    1.0          33\n",
      "6900000              2.650    2.0          47\n",
      "7200000              2.935    2.5          76\n",
      "8000000              3.400    3.0         106\n",
      "9500000              2.650    2.0          81\n",
      "9590000              3.300    2.0         108\n",
      "10990000             3.900    3.0         100\n",
      "11500000             3.700    1.0          48\n",
      "13500000             3.350    3.0          97\n"
     ]
    },
    {
     "data": {
      "image/png": "[encoded data removed]",
      "text/plain": [
       "<Figure size 432x288 with 1 Axes>"
      ]
     },
     "metadata": {
      "needs_background": "light"
     },
     "output_type": "display_data"
    },
    {
     "data": {
      "image/png": "[encoded data removed]",
      "text/plain": [
       "<Figure size 432x288 with 1 Axes>"
      ]
     },
     "metadata": {
      "needs_background": "light"
     },
     "output_type": "display_data"
    },
    {
     "name": "stdout",
     "output_type": "stream",
     "text": [
      "            ceiling_height  rooms  total_area\n",
      "last_price                                   \n",
      "5300000              2.650    3.0          49\n",
      "5800000              3.700    1.0          33\n",
      "6900000              2.650    2.0          47\n",
      "7200000              2.935    2.5          76\n",
      "8000000              3.400    3.0         106\n",
      "9500000              2.650    2.0          81\n",
      "9590000              3.300    2.0         108\n",
      "10990000             3.900    3.0         100\n",
      "11500000             3.700    1.0          48\n",
      "13500000             3.350    3.0          97\n"
     ]
    },
    {
     "data": {
      "image/png": "[encoded data removed]",
      "text/plain": [
       "<Figure size 432x288 with 1 Axes>"
      ]
     },
     "metadata": {
      "needs_background": "light"
     },
     "output_type": "display_data"
    },
    {
     "data": {
      "image/png": "[encoded data removed]",
      "text/plain": [
       "<Figure size 432x288 with 1 Axes>"
      ]
     },
     "metadata": {
      "needs_background": "light"
     },
     "output_type": "display_data"
    },
    {
     "name": "stdout",
     "output_type": "stream",
     "text": [
      "            ceiling_height  rooms  total_area\n",
      "last_price                                   \n",
      "5300000              2.650    3.0          49\n",
      "5800000              3.700    1.0          33\n",
      "6900000              2.650    2.0          47\n",
      "7200000              2.935    2.5          76\n",
      "8000000              3.400    3.0         106\n",
      "9500000              2.650    2.0          81\n",
      "9590000              3.300    2.0         108\n",
      "10990000             3.900    3.0         100\n",
      "11500000             3.700    1.0          48\n",
      "13500000             3.350    3.0          97\n"
     ]
    }
   ],
   "source": [
    "petersburg_center = petersburg.query('center_km <= 6')\n",
    "petersburg_hist = petersburg_center.pivot_table(index='last_price', values=['total_area', 'rooms', 'ceiling_height'], aggfunc='median')\n",
    "\n",
    "for column in petersburg_hist:\n",
    "    params = petersburg_hist[[column]].describe().T\n",
    "    q1 = params['25%'][0]\n",
    "    q2 = params['75%'][0]\n",
    "    iqr = q2 - q1\n",
    "    petersburg_hist[[column]].hist(range = (q1 -  iqr, q2 +  iqr))\n",
    "    plt.show()\n",
    "    petersburg_hist.boxplot(column, vert=False)\n",
    "    plt.show()\n",
    "    print(petersburg_hist)"
   ]
  },
  {
   "cell_type": "markdown",
   "metadata": {},
   "source": [
    "Высота потолков влияет на цены на жилье. Основной рост наблюдается в диапазоне от 3 до 4м.\n",
    "\n",
    "Количество комнат: количество комнат влияет на стоимость квартир, трехкомнантные квартиры чаще стоят дороже двух и однокомнатных.\n",
    "\n",
    "Площадь один из основных параметром влияющих на цену квартиры. Значительный рост цены наблюдается от 80 м.\n",
    "\n",
    "Удаленность от центра: примерно в 6 км от центра замечено резкое изменение цены и её дальнейший рост.\n",
    "\n",
    "При этом есть исключения, похоже у кого-то большой аппетит. \n",
    "Среди дорогих квартир мы видим объявление за 115 млн руб, 1 комната и 48 метров площади. "
   ]
  },
  {
   "cell_type": "markdown",
   "metadata": {},
   "source": [
    "### Шаг 5. Общий вывод"
   ]
  },
  {
   "cell_type": "markdown",
   "metadata": {},
   "source": [
    "Проанализировав данные, пришел к следующим выводам, они же легки в дальнейшее рассмотрение зависимости цены квартир от различных параметров.\n",
    "\n",
    "- Цена квартиры более 15 млн уже редкость. Больше 25 млн практически не встречается.\n",
    "\n",
    "- Площадь квартира до 150 метров.\n",
    "\n",
    "- Высота потолков более 2,75 метров уже редкость. Больше 4 метров практически нет, меньше 2.4 тоже.\n",
    "\n",
    "- В среднем продажа квартиры занимает 180 дней. \n",
    "\n",
    "- Считать продажу очень быстрой можно если она заняла менее 45 дней, необычно долгими продажи можно считать, если они заняли свыше 231 дня. \n",
    "\n",
    "- В редких случаях квартира продавалась свыше 500 дней. \n",
    "\n",
    "#### Зависимости от различных параметров.\n",
    "**Площадь квартиры:** подтверждается сильная зависимость. Коэффициент корреляции - 0.74\n",
    "\n",
    "**Этажность:** цена на квартиры на последних этажах и в категории «другие» имею примерно одинаковый диапазон цен. Квартиры на первых этаж обычно продаются по более низким ценам.\n",
    "\n",
    "**Дата размещения:** Цены квартиры больше в 2016 и 2019 году, низкие в 2015 и 2018. \n",
    "\n",
    "**Цена:** Наибольшие цены зафиксированы в апреле, августе и сентябре, наименьшая в октябре.\n",
    "\n",
    "Наибольшие цены зафиксированы по объявлениям, размещенным в четверг и субботу, наименьшие в понедельник.\n",
    "\n",
    "**Комнаты:** Количество комнат, тем больше цена на квартиры. Зависимость не такая сильная как в случае с удаленностью от центра, но тоже значительная, коэффициент корреляции - 0,48\n",
    "\n",
    "#### Анализ цены за метр.\n",
    "Согласно данным таблицы самая большая цена квадратного метра в п. Лисий нос 114316 руб., но количество объявлений незначительное, всего два. \n",
    "\n",
    "В связи с этим большее внимание стоит уделить г. Санкт-Петербург с средней ценой кв. метра 106380 руб. и количеством объявлений - 11677.\n",
    "\n",
    "Наименьшая цена кв. метра зафиксирована в деревне Старополье - 11238 руб.\n",
    "\n",
    "Удаленность от центра: примерно в 6 км от центра замечено резкое изменение цены и её дальнейший рост.\n",
    "Высота потолков влияет на цены на жилье в центре. Основной рост наблюдается в диапазоне от 3 до 4м.\n",
    "\n",
    "Количество комнат: количество комнат влияет на стоимость квартир, трехкомнантные квартиры чаще стоят дороже двух и однокомнатных.\n",
    "\n",
    "Площадь один из основного параметра влияющих на цену квартиры. Значительный рост цены наблюдается от 80 м.\n",
    "\n",
    "При этом есть исключения, похоже у кого-то большой аппетит. Среди дорогих квартир мы видим объявление за 115 млн руб, 1 комната и 48 метров площади.\n"
   ]
  }
 ],
 "metadata": {
  "kernelspec": {
   "display_name": "Python 3",
   "language": "python",
   "name": "python3"
  },
  "language_info": {
   "codemirror_mode": {
    "name": "ipython",
    "version": 3
   },
   "file_extension": ".py",
   "mimetype": "text/x-python",
   "name": "python",
   "nbconvert_exporter": "python",
   "pygments_lexer": "ipython3",
   "version": "3.7.6"
  }
 },
 "nbformat": 4,
 "nbformat_minor": 2
}
